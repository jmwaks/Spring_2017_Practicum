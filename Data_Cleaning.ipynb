{
 "cells": [
  {
   "cell_type": "code",
   "execution_count": 1,
   "metadata": {
    "collapsed": true
   },
   "outputs": [],
   "source": [
    "%matplotlib inline\n",
    "import pandas as pd\n",
    "from ipywidgets import widgets\n",
    "from IPython.display import display\n",
    "import numpy as np\n",
    "import matplotlib.pyplot as plt\n",
    "from sklearn.model_selection import train_test_split\n",
    "from sklearn import tree\n",
    "import sklearn.metrics as metrics\n",
    "import pydotplus \n",
    "from IPython.display import Image\n",
    "from sklearn.metrics import confusion_matrix\n",
    "from sklearn.linear_model import LogisticRegression\n",
    "from sklearn.svm import SVC\n",
    "from sklearn.linear_model import Lasso\n",
    "from sklearn.ensemble import RandomForestClassifier\n",
    "from IPython.display import Image\n",
    "import pydotplus \n",
    "from sklearn import preprocessing"
   ]
  },
  {
   "cell_type": "code",
   "execution_count": 2,
   "metadata": {
    "collapsed": true
   },
   "outputs": [],
   "source": [
    "pd.options.mode.chained_assignment = None"
   ]
  },
  {
   "cell_type": "code",
   "execution_count": 3,
   "metadata": {
    "collapsed": true
   },
   "outputs": [],
   "source": [
    "tmchurn = pd.read_csv('data/tmchurn_latest.csv', sep= '\\t')\n"
   ]
  },
  {
   "cell_type": "code",
   "execution_count": 4,
   "metadata": {
    "collapsed": true
   },
   "outputs": [],
   "source": [
    "onechurn = pd.read_csv('data/tmchurn.csv', sep='\\t')"
   ]
  },
  {
   "cell_type": "code",
   "execution_count": 5,
   "metadata": {
    "collapsed": true
   },
   "outputs": [],
   "source": [
    "twochurn = pd.read_csv('data/twomchurn.csv', sep= '\\t')"
   ]
  },
  {
   "cell_type": "code",
   "execution_count": 6,
   "metadata": {
    "collapsed": false
   },
   "outputs": [
    {
     "name": "stderr",
     "output_type": "stream",
     "text": [
      "/Users/jamesmwakichako/Documents/Kaggle/kaggle_py/lib/python3.5/site-packages/IPython/core/interactiveshell.py:2717: DtypeWarning: Columns (28) have mixed types. Specify dtype option on import or set low_memory=False.\n",
      "  interactivity=interactivity, compiler=compiler, result=result)\n"
     ]
    }
   ],
   "source": [
    "onechurn_freq = pd.read_csv('data/onemchurn_freq.csv')"
   ]
  },
  {
   "cell_type": "code",
   "execution_count": 44,
   "metadata": {
    "collapsed": true
   },
   "outputs": [],
   "source": [
    "df = pd.read_csv('data/diff.csv', encoding = 'utf-8', sep= '\\t')"
   ]
  },
  {
   "cell_type": "code",
   "execution_count": 45,
   "metadata": {
    "collapsed": false
   },
   "outputs": [
    {
     "data": {
      "text/plain": [
       "(821464, 117)"
      ]
     },
     "execution_count": 45,
     "metadata": {},
     "output_type": "execute_result"
    }
   ],
   "source": [
    "df.shape"
   ]
  },
  {
   "cell_type": "code",
   "execution_count": 9,
   "metadata": {
    "collapsed": false
   },
   "outputs": [
    {
     "data": {
      "text/plain": [
       "(133394, 104)"
      ]
     },
     "execution_count": 9,
     "metadata": {},
     "output_type": "execute_result"
    }
   ],
   "source": [
    "onechurn_freq.shape"
   ]
  },
  {
   "cell_type": "code",
   "execution_count": 10,
   "metadata": {
    "collapsed": false
   },
   "outputs": [
    {
     "data": {
      "text/plain": [
       "(821464, 84)"
      ]
     },
     "execution_count": 10,
     "metadata": {},
     "output_type": "execute_result"
    }
   ],
   "source": [
    "tmchurn.shape"
   ]
  },
  {
   "cell_type": "code",
   "execution_count": 11,
   "metadata": {
    "collapsed": false
   },
   "outputs": [
    {
     "data": {
      "text/html": [
       "<div>\n",
       "<table border=\"1\" class=\"dataframe\">\n",
       "  <thead>\n",
       "    <tr style=\"text-align: right;\">\n",
       "      <th></th>\n",
       "      <th>Unnamed: 0</th>\n",
       "      <th>Unnamed: 0.1</th>\n",
       "      <th>Unnamed: 0.1.1</th>\n",
       "      <th>Athlete</th>\n",
       "      <th>Subscription</th>\n",
       "      <th>Month</th>\n",
       "      <th>gender</th>\n",
       "      <th>sport</th>\n",
       "      <th>SegmentName</th>\n",
       "      <th>Duration</th>\n",
       "      <th>...</th>\n",
       "      <th>ECoachEval_Freq</th>\n",
       "      <th>ECoachImport_Freq</th>\n",
       "      <th>ECoachSearchHit_Freq</th>\n",
       "      <th>ECoachVisit_Freq</th>\n",
       "      <th>Ecolleges_going_to_the_event_Freq</th>\n",
       "      <th>Efailed_subscription_Freq</th>\n",
       "      <th>EEmailsDigest_Freq</th>\n",
       "      <th>Epost_event_email_Freq</th>\n",
       "      <th>Esms_update_Freq</th>\n",
       "      <th>ECCNote_Freq</th>\n",
       "    </tr>\n",
       "  </thead>\n",
       "  <tbody>\n",
       "    <tr>\n",
       "      <th>0</th>\n",
       "      <td>3188</td>\n",
       "      <td>3188</td>\n",
       "      <td>3188</td>\n",
       "      <td>220000</td>\n",
       "      <td>247241</td>\n",
       "      <td>2012-01-01</td>\n",
       "      <td>F</td>\n",
       "      <td>volleyball</td>\n",
       "      <td>NaN</td>\n",
       "      <td>83</td>\n",
       "      <td>...</td>\n",
       "      <td>0</td>\n",
       "      <td>0</td>\n",
       "      <td>0</td>\n",
       "      <td>0</td>\n",
       "      <td>0</td>\n",
       "      <td>0</td>\n",
       "      <td>0</td>\n",
       "      <td>0</td>\n",
       "      <td>0</td>\n",
       "      <td>0</td>\n",
       "    </tr>\n",
       "    <tr>\n",
       "      <th>1</th>\n",
       "      <td>1322</td>\n",
       "      <td>1322</td>\n",
       "      <td>1322</td>\n",
       "      <td>218037</td>\n",
       "      <td>245146</td>\n",
       "      <td>2012-01-01</td>\n",
       "      <td>F</td>\n",
       "      <td>lacrosse</td>\n",
       "      <td>NaN</td>\n",
       "      <td>15</td>\n",
       "      <td>...</td>\n",
       "      <td>0</td>\n",
       "      <td>0</td>\n",
       "      <td>0</td>\n",
       "      <td>0</td>\n",
       "      <td>0</td>\n",
       "      <td>0</td>\n",
       "      <td>0</td>\n",
       "      <td>0</td>\n",
       "      <td>0</td>\n",
       "      <td>0</td>\n",
       "    </tr>\n",
       "    <tr>\n",
       "      <th>2</th>\n",
       "      <td>1324</td>\n",
       "      <td>1324</td>\n",
       "      <td>1324</td>\n",
       "      <td>218138</td>\n",
       "      <td>247516</td>\n",
       "      <td>2012-01-01</td>\n",
       "      <td>F</td>\n",
       "      <td>volleyball</td>\n",
       "      <td>NaN</td>\n",
       "      <td>380</td>\n",
       "      <td>...</td>\n",
       "      <td>0</td>\n",
       "      <td>0</td>\n",
       "      <td>0</td>\n",
       "      <td>0</td>\n",
       "      <td>0</td>\n",
       "      <td>0</td>\n",
       "      <td>0</td>\n",
       "      <td>0</td>\n",
       "      <td>0</td>\n",
       "      <td>0</td>\n",
       "    </tr>\n",
       "    <tr>\n",
       "      <th>3</th>\n",
       "      <td>284</td>\n",
       "      <td>284</td>\n",
       "      <td>284</td>\n",
       "      <td>216834</td>\n",
       "      <td>243463</td>\n",
       "      <td>2012-01-01</td>\n",
       "      <td>F</td>\n",
       "      <td>lacrosse</td>\n",
       "      <td>NaN</td>\n",
       "      <td>179</td>\n",
       "      <td>...</td>\n",
       "      <td>0</td>\n",
       "      <td>0</td>\n",
       "      <td>0</td>\n",
       "      <td>0</td>\n",
       "      <td>0</td>\n",
       "      <td>0</td>\n",
       "      <td>0</td>\n",
       "      <td>0</td>\n",
       "      <td>0</td>\n",
       "      <td>0</td>\n",
       "    </tr>\n",
       "    <tr>\n",
       "      <th>4</th>\n",
       "      <td>279</td>\n",
       "      <td>279</td>\n",
       "      <td>279</td>\n",
       "      <td>216741</td>\n",
       "      <td>243503</td>\n",
       "      <td>2012-01-01</td>\n",
       "      <td>F</td>\n",
       "      <td>volleyball</td>\n",
       "      <td>NaN</td>\n",
       "      <td>245</td>\n",
       "      <td>...</td>\n",
       "      <td>0</td>\n",
       "      <td>0</td>\n",
       "      <td>0</td>\n",
       "      <td>0</td>\n",
       "      <td>0</td>\n",
       "      <td>0</td>\n",
       "      <td>0</td>\n",
       "      <td>0</td>\n",
       "      <td>0</td>\n",
       "      <td>0</td>\n",
       "    </tr>\n",
       "  </tbody>\n",
       "</table>\n",
       "<p>5 rows × 104 columns</p>\n",
       "</div>"
      ],
      "text/plain": [
       "   Unnamed: 0  Unnamed: 0.1  Unnamed: 0.1.1  Athlete  Subscription  \\\n",
       "0        3188          3188            3188   220000        247241   \n",
       "1        1322          1322            1322   218037        245146   \n",
       "2        1324          1324            1324   218138        247516   \n",
       "3         284           284             284   216834        243463   \n",
       "4         279           279             279   216741        243503   \n",
       "\n",
       "        Month gender       sport  SegmentName  Duration      ...       \\\n",
       "0  2012-01-01      F  volleyball          NaN        83      ...        \n",
       "1  2012-01-01      F    lacrosse          NaN        15      ...        \n",
       "2  2012-01-01      F  volleyball          NaN       380      ...        \n",
       "3  2012-01-01      F    lacrosse          NaN       179      ...        \n",
       "4  2012-01-01      F  volleyball          NaN       245      ...        \n",
       "\n",
       "   ECoachEval_Freq  ECoachImport_Freq ECoachSearchHit_Freq  ECoachVisit_Freq  \\\n",
       "0                0                  0                    0                 0   \n",
       "1                0                  0                    0                 0   \n",
       "2                0                  0                    0                 0   \n",
       "3                0                  0                    0                 0   \n",
       "4                0                  0                    0                 0   \n",
       "\n",
       "   Ecolleges_going_to_the_event_Freq  Efailed_subscription_Freq  \\\n",
       "0                                  0                          0   \n",
       "1                                  0                          0   \n",
       "2                                  0                          0   \n",
       "3                                  0                          0   \n",
       "4                                  0                          0   \n",
       "\n",
       "  EEmailsDigest_Freq  Epost_event_email_Freq  Esms_update_Freq  ECCNote_Freq  \n",
       "0                  0                       0                 0             0  \n",
       "1                  0                       0                 0             0  \n",
       "2                  0                       0                 0             0  \n",
       "3                  0                       0                 0             0  \n",
       "4                  0                       0                 0             0  \n",
       "\n",
       "[5 rows x 104 columns]"
      ]
     },
     "execution_count": 11,
     "metadata": {},
     "output_type": "execute_result"
    }
   ],
   "source": [
    "onechurn_freq.head(5)"
   ]
  },
  {
   "cell_type": "code",
   "execution_count": 28,
   "metadata": {
    "collapsed": false
   },
   "outputs": [
    {
     "data": {
      "text/html": [
       "<div>\n",
       "<table border=\"1\" class=\"dataframe\">\n",
       "  <thead>\n",
       "    <tr style=\"text-align: right;\">\n",
       "      <th></th>\n",
       "      <th>Unnamed: 0</th>\n",
       "      <th>Athlete</th>\n",
       "      <th>Subscription</th>\n",
       "      <th>Month</th>\n",
       "      <th>gender</th>\n",
       "      <th>sport</th>\n",
       "      <th>SegmentName</th>\n",
       "      <th>Duration</th>\n",
       "      <th>EventsAttended</th>\n",
       "      <th>EventsAttended_Frequency</th>\n",
       "      <th>...</th>\n",
       "      <th>AthleteRecordNumber</th>\n",
       "      <th>created_at</th>\n",
       "      <th>updated_at</th>\n",
       "      <th>status</th>\n",
       "      <th>NumMonth.1</th>\n",
       "      <th>NumMonth.2</th>\n",
       "      <th>ID</th>\n",
       "      <th>AthleteSub</th>\n",
       "      <th>CaptainU_CHURN</th>\n",
       "      <th>MSG_CHURN</th>\n",
       "    </tr>\n",
       "  </thead>\n",
       "  <tbody>\n",
       "    <tr>\n",
       "      <th>0</th>\n",
       "      <td>0</td>\n",
       "      <td>215018</td>\n",
       "      <td>0</td>\n",
       "      <td>Jan-2012</td>\n",
       "      <td>F</td>\n",
       "      <td>softball</td>\n",
       "      <td>NaN</td>\n",
       "      <td>NaN</td>\n",
       "      <td>0</td>\n",
       "      <td>0</td>\n",
       "      <td>...</td>\n",
       "      <td>1</td>\n",
       "      <td>NaN</td>\n",
       "      <td>NaN</td>\n",
       "      <td>NaN</td>\n",
       "      <td>1</td>\n",
       "      <td>4.0</td>\n",
       "      <td>1</td>\n",
       "      <td>0</td>\n",
       "      <td>0</td>\n",
       "      <td>0</td>\n",
       "    </tr>\n",
       "    <tr>\n",
       "      <th>1</th>\n",
       "      <td>1</td>\n",
       "      <td>215018</td>\n",
       "      <td>0</td>\n",
       "      <td>Feb-2012</td>\n",
       "      <td>F</td>\n",
       "      <td>softball</td>\n",
       "      <td>NaN</td>\n",
       "      <td>NaN</td>\n",
       "      <td>0</td>\n",
       "      <td>0</td>\n",
       "      <td>...</td>\n",
       "      <td>2</td>\n",
       "      <td>NaN</td>\n",
       "      <td>NaN</td>\n",
       "      <td>NaN</td>\n",
       "      <td>2</td>\n",
       "      <td>5.0</td>\n",
       "      <td>2</td>\n",
       "      <td>0</td>\n",
       "      <td>0</td>\n",
       "      <td>0</td>\n",
       "    </tr>\n",
       "    <tr>\n",
       "      <th>2</th>\n",
       "      <td>2</td>\n",
       "      <td>215018</td>\n",
       "      <td>0</td>\n",
       "      <td>Mar-2012</td>\n",
       "      <td>F</td>\n",
       "      <td>softball</td>\n",
       "      <td>NaN</td>\n",
       "      <td>NaN</td>\n",
       "      <td>0</td>\n",
       "      <td>0</td>\n",
       "      <td>...</td>\n",
       "      <td>3</td>\n",
       "      <td>NaN</td>\n",
       "      <td>NaN</td>\n",
       "      <td>NaN</td>\n",
       "      <td>3</td>\n",
       "      <td>6.0</td>\n",
       "      <td>3</td>\n",
       "      <td>0</td>\n",
       "      <td>0</td>\n",
       "      <td>0</td>\n",
       "    </tr>\n",
       "    <tr>\n",
       "      <th>3</th>\n",
       "      <td>3</td>\n",
       "      <td>215018</td>\n",
       "      <td>0</td>\n",
       "      <td>Apr-2012</td>\n",
       "      <td>F</td>\n",
       "      <td>softball</td>\n",
       "      <td>NaN</td>\n",
       "      <td>NaN</td>\n",
       "      <td>0</td>\n",
       "      <td>0</td>\n",
       "      <td>...</td>\n",
       "      <td>4</td>\n",
       "      <td>NaN</td>\n",
       "      <td>NaN</td>\n",
       "      <td>NaN</td>\n",
       "      <td>4</td>\n",
       "      <td>7.0</td>\n",
       "      <td>4</td>\n",
       "      <td>0</td>\n",
       "      <td>0</td>\n",
       "      <td>0</td>\n",
       "    </tr>\n",
       "    <tr>\n",
       "      <th>4</th>\n",
       "      <td>4</td>\n",
       "      <td>215018</td>\n",
       "      <td>0</td>\n",
       "      <td>May-2012</td>\n",
       "      <td>F</td>\n",
       "      <td>softball</td>\n",
       "      <td>NaN</td>\n",
       "      <td>NaN</td>\n",
       "      <td>0</td>\n",
       "      <td>0</td>\n",
       "      <td>...</td>\n",
       "      <td>5</td>\n",
       "      <td>NaN</td>\n",
       "      <td>NaN</td>\n",
       "      <td>NaN</td>\n",
       "      <td>5</td>\n",
       "      <td>8.0</td>\n",
       "      <td>5</td>\n",
       "      <td>0</td>\n",
       "      <td>0</td>\n",
       "      <td>0</td>\n",
       "    </tr>\n",
       "  </tbody>\n",
       "</table>\n",
       "<p>5 rows × 84 columns</p>\n",
       "</div>"
      ],
      "text/plain": [
       "   Unnamed: 0  Athlete  Subscription     Month gender     sport  SegmentName  \\\n",
       "0           0   215018             0  Jan-2012      F  softball          NaN   \n",
       "1           1   215018             0  Feb-2012      F  softball          NaN   \n",
       "2           2   215018             0  Mar-2012      F  softball          NaN   \n",
       "3           3   215018             0  Apr-2012      F  softball          NaN   \n",
       "4           4   215018             0  May-2012      F  softball          NaN   \n",
       "\n",
       "   Duration  EventsAttended  EventsAttended_Frequency    ...      \\\n",
       "0       NaN               0                         0    ...       \n",
       "1       NaN               0                         0    ...       \n",
       "2       NaN               0                         0    ...       \n",
       "3       NaN               0                         0    ...       \n",
       "4       NaN               0                         0    ...       \n",
       "\n",
       "  AthleteRecordNumber  created_at  updated_at  status NumMonth.1  NumMonth.2  \\\n",
       "0                   1         NaN         NaN     NaN          1         4.0   \n",
       "1                   2         NaN         NaN     NaN          2         5.0   \n",
       "2                   3         NaN         NaN     NaN          3         6.0   \n",
       "3                   4         NaN         NaN     NaN          4         7.0   \n",
       "4                   5         NaN         NaN     NaN          5         8.0   \n",
       "\n",
       "   ID  AthleteSub  CaptainU_CHURN  MSG_CHURN  \n",
       "0   1           0               0          0  \n",
       "1   2           0               0          0  \n",
       "2   3           0               0          0  \n",
       "3   4           0               0          0  \n",
       "4   5           0               0          0  \n",
       "\n",
       "[5 rows x 84 columns]"
      ]
     },
     "execution_count": 28,
     "metadata": {},
     "output_type": "execute_result"
    }
   ],
   "source": [
    "tmchurn.head(5)"
   ]
  },
  {
   "cell_type": "code",
   "execution_count": 8,
   "metadata": {
    "collapsed": false
   },
   "outputs": [
    {
     "data": {
      "text/plain": [
       "14669"
      ]
     },
     "execution_count": 8,
     "metadata": {},
     "output_type": "execute_result"
    }
   ],
   "source": [
    "len(tmchurn['Athlete'].unique())"
   ]
  },
  {
   "cell_type": "code",
   "execution_count": 29,
   "metadata": {
    "collapsed": true
   },
   "outputs": [],
   "source": [
    "tmchurn = tmchurn[tmchurn['Subscription']>0]"
   ]
  },
  {
   "cell_type": "code",
   "execution_count": 46,
   "metadata": {
    "collapsed": true
   },
   "outputs": [],
   "source": [
    "df = df[df['Subscription']>0]"
   ]
  },
  {
   "cell_type": "code",
   "execution_count": 47,
   "metadata": {
    "collapsed": false
   },
   "outputs": [
    {
     "data": {
      "text/plain": [
       "(133419, 117)"
      ]
     },
     "execution_count": 47,
     "metadata": {},
     "output_type": "execute_result"
    }
   ],
   "source": [
    "df.shape"
   ]
  },
  {
   "cell_type": "code",
   "execution_count": 124,
   "metadata": {
    "collapsed": false
   },
   "outputs": [],
   "source": [
    "twochurn = twochurn[twochurn['Subscription']>0]"
   ]
  },
  {
   "cell_type": "code",
   "execution_count": 30,
   "metadata": {
    "collapsed": true
   },
   "outputs": [],
   "source": [
    "tmchurn['Month'] = pd.to_datetime(pd.Series(tmchurn['Month']), format='%b-%Y')"
   ]
  },
  {
   "cell_type": "code",
   "execution_count": 18,
   "metadata": {
    "collapsed": true
   },
   "outputs": [],
   "source": [
    "onechurn['Month'] = pd.to_datetime(pd.Series(onechurn['Month']), format='%b-%Y')"
   ]
  },
  {
   "cell_type": "code",
   "execution_count": 125,
   "metadata": {
    "collapsed": true
   },
   "outputs": [],
   "source": [
    "twochurn['Month'] = pd.to_datetime(pd.Series(twochurn['Month']), format='%b-%Y')"
   ]
  },
  {
   "cell_type": "code",
   "execution_count": 29,
   "metadata": {
    "collapsed": false
   },
   "outputs": [
    {
     "data": {
      "text/plain": [
       "dtype('O')"
      ]
     },
     "execution_count": 29,
     "metadata": {},
     "output_type": "execute_result"
    }
   ],
   "source": [
    "onechurn['Month'].dtype"
   ]
  },
  {
   "cell_type": "code",
   "execution_count": null,
   "metadata": {
    "collapsed": true
   },
   "outputs": [],
   "source": []
  },
  {
   "cell_type": "code",
   "execution_count": 34,
   "metadata": {
    "collapsed": false
   },
   "outputs": [
    {
     "data": {
      "text/plain": [
       "array(['Unnamed: 0', 'Unnamed: 0.1', 'Unnamed: 0.1.1', 'Athlete',\n",
       "       'Subscription', 'Month', 'gender', 'sport', 'SegmentName',\n",
       "       'Duration', 'EventsAttended', 'EventsAttended_Frequency',\n",
       "       'EventsAttended_LastDate', 'EventsAttended_Recency', 'Hits',\n",
       "       'Hits_Frequency', 'Hits_LastDate', 'Hits_Recency', 'Hprofileview',\n",
       "       'Hcoachimport', 'Hmessage', 'Hsearchhit', 'HNULL', 'Hcoacheval',\n",
       "       'Hvideoview', 'Hemailopen', 'Emails', 'Emails_Frequency',\n",
       "       'Emails_LastDate', 'Emails_Recency', 'EAthlete newsletter',\n",
       "       'Eathlete_new', 'Eathlete_new_info_request', 'ECCNote',\n",
       "       'ECCNote_camp', 'Ecoach_list_known_updated', 'ECoachEmailOpen',\n",
       "       'ECoachEval', 'ECoachImport', 'ECoachSearchHit',\n",
       "       'ECoachVideoViewHit', 'ECoachVisit', 'Ecolleges_going_to_the_event',\n",
       "       'Efailed_subscription', 'Ehighlight_video__regathlete_11',\n",
       "       'Ehighlight_video__regathlete_2', 'Ehighlight_video__regathlete_4',\n",
       "       'EEmailsDigest', 'Eparent_new', 'Eparent_welcome',\n",
       "       'Epost_event_email', 'Esms_update', 'CollegeProspects',\n",
       "       'CollegeProspects_Frequency', 'CollegeProspects_LastDate',\n",
       "       'CollegeProspects_Recency', 'MessagesReceived',\n",
       "       'MessagesReceived_Frequency', 'MessagesReceived_LastDate',\n",
       "       'MessagesReceived_Recency', 'MessagesSent',\n",
       "       'MessagesSent_Frequency', 'MessagesSent_LastDate',\n",
       "       'MessagesSent_Recency', 'Made_Team?', 'DateNum', 'NumYear',\n",
       "       'NumMonth', 'Subscriber?', 'monthly_price', 'Subscriptions_BOM',\n",
       "       'Subscription_Started', 'subscription_Ended', 'Subscriptions_EOM',\n",
       "       'RecencyNow', 'RecencyStat', 'AthleteRecordNumber', 'created_at',\n",
       "       'updated_at', 'status', 'ID', 'AthleteSub', 'CaptainU_CHURN',\n",
       "       'MSG_CHURN', 'TMChurn', 'Hprofileview_Freq', 'Hcoachimport_Freq',\n",
       "       'Hmessage_Freq', 'Hsearchhit_Freq', 'Hcoacheval_Freq',\n",
       "       'Hemailopen_Freq', 'Eathlete_new_info_request_Freq',\n",
       "       'Ecoach_list_known_updated_Freq', 'ECoachEmailOpen_Freq',\n",
       "       'ECoachEval_Freq', 'ECoachImport_Freq', 'ECoachSearchHit_Freq',\n",
       "       'ECoachVisit_Freq', 'Ecolleges_going_to_the_event_Freq',\n",
       "       'Efailed_subscription_Freq', 'EEmailsDigest_Freq',\n",
       "       'Epost_event_email_Freq', 'Esms_update_Freq', 'ECCNote_Freq'], dtype=object)"
      ]
     },
     "execution_count": 34,
     "metadata": {},
     "output_type": "execute_result"
    }
   ],
   "source": [
    "onechurn_freq.columns.values"
   ]
  },
  {
   "cell_type": "code",
   "execution_count": 20,
   "metadata": {
    "collapsed": true
   },
   "outputs": [],
   "source": [
    "onechurn.to_csv('data/one_month_churn.csv', encoding='utf-8')"
   ]
  },
  {
   "cell_type": "code",
   "execution_count": 33,
   "metadata": {
    "collapsed": false
   },
   "outputs": [],
   "source": [
    "tmchurn.drop(['Emails_Recency', 'status','EventsAttended_LastDate','Hits_LastDate',\n",
    "            'CollegeProspects_LastDate','created_at','updated_at','Month','Unnamed: 0',\n",
    "            'MSG_CHURN', 'Made_Team?','ID','subscription_Ended','SegmentName','EventsAttended_Recency',\n",
    "            'AthleteSub','Athlete','Subscription','DateNum','Hits',\n",
    "              'MessagesSent_LastDate','MessagesReceived_LastDate','Emails_LastDate','AthleteRecordNumber',\n",
    "             'Hits_Recency','CollegeProspects_Recency','MessagesSent_Recency',\n",
    "              'Subscriptions_EOM','Subscriptions_BOM','RecencyNow', 'RecencyStat','Subscription_Started',\n",
    "            'Subscriber?', 'MessagesReceived_Recency','Ehighlight_video__regathlete_11','Ehighlight_video__regathlete_2', \n",
    "             'Ehighlight_video__regathlete_4','HNULL','sport', 'Hits_Frequency','EventsAttended_Frequency','Hvideoview','Emails','Emails_Frequency',\n",
    "            'ECoachVideoViewHit','CollegeProspects_Frequency','MessagesReceived_Frequency','MessagesSent_Frequency','NumMonth.1', 'NumMonth.2'], axis=1, inplace=True)"
   ]
  },
  {
   "cell_type": "code",
   "execution_count": 128,
   "metadata": {
    "collapsed": true
   },
   "outputs": [],
   "source": [
    "twochurn.drop(['Emails_Recency', 'status','EventsAttended_LastDate','Hits_LastDate',\n",
    "            'CollegeProspects_LastDate','created_at','updated_at','Month','Unnamed: 0',\n",
    "            'MSG_CHURN', 'Made_Team?','ID','subscription_Ended','SegmentName','EventsAttended_Recency',\n",
    "            'AthleteSub','Athlete','Subscription','DateNum','Hits',\n",
    "              'MessagesSent_LastDate','MessagesReceived_LastDate','Emails_LastDate','AthleteRecordNumber',\n",
    "             'Hits_Recency','CollegeProspects_Recency','MessagesSent_Recency',\n",
    "              'Subscriptions_EOM','Subscriptions_BOM','RecencyNow', 'RecencyStat','Subscription_Started',\n",
    "            'Subscriber?', 'MessagesReceived_Recency','Ehighlight_video__regathlete_11','Ehighlight_video__regathlete_2', \n",
    "             'Ehighlight_video__regathlete_4','HNULL','sport', 'Hits_Frequency','EventsAttended_Frequency','Hvideoview','Emails','Emails_Frequency',\n",
    "            'ECoachVideoViewHit','CollegeProspects_Frequency','MessagesReceived_Frequency','MessagesSent_Frequency','NumMonth.1', 'NumMonth.2'], axis=1, inplace=True)"
   ]
  },
  {
   "cell_type": "code",
   "execution_count": 84,
   "metadata": {
    "collapsed": true
   },
   "outputs": [],
   "source": [
    "onechurn.drop(['Emails_Recency', 'status','EventsAttended_LastDate','Hits_LastDate',\n",
    "            'CollegeProspects_LastDate','created_at','updated_at','Month','Unnamed: 0',\n",
    "            'MSG_CHURN', 'Made_Team?','ID','subscription_Ended','SegmentName','EventsAttended_Recency',\n",
    "            'AthleteSub','Athlete','Subscription','DateNum','Hits',\n",
    "              'MessagesSent_LastDate','MessagesReceived_LastDate','Emails_LastDate','AthleteRecordNumber',\n",
    "             'Hits_Recency','CollegeProspects_Recency','MessagesSent_Recency',\n",
    "              'Subscriptions_EOM','Subscriptions_BOM','RecencyNow', 'RecencyStat','Subscription_Started',\n",
    "            'Subscriber?', 'MessagesReceived_Recency','Ehighlight_video__regathlete_11',\n",
    "               'Ehighlight_video__regathlete_2', \n",
    "             'Ehighlight_video__regathlete_4','HNULL','sport', 'Hits_Frequency','EventsAttended_Frequency',\n",
    "               'Hvideoview','Emails','Emails_Frequency',\n",
    "            'ECoachVideoViewHit','CollegeProspects_Frequency','MessagesReceived_Frequency',\n",
    "               'MessagesSent_Frequency','CaptainU_CHURN', ], axis=1, inplace=True)"
   ]
  },
  {
   "cell_type": "code",
   "execution_count": 48,
   "metadata": {
    "collapsed": false
   },
   "outputs": [
    {
     "data": {
      "text/plain": [
       "array(['Unnamed: 0', 'Athlete', 'Subscription', 'Month', 'gender', 'sport',\n",
       "       'SegmentName', 'Duration', 'EventsAttended',\n",
       "       'EventsAttended_Frequency', 'EventsAttended_LastDate',\n",
       "       'EventsAttended_Recency', 'Hits', 'Hits_Frequency', 'Hits_LastDate',\n",
       "       'Hits_Recency', 'Hprofileview', 'Hcoachimport', 'Hmessage',\n",
       "       'Hsearchhit', 'HNULL', 'Hcoacheval', 'Hvideoview', 'Hemailopen',\n",
       "       'Emails', 'Emails_Frequency', 'Emails_LastDate', 'Emails_Recency',\n",
       "       'EAthlete newsletter', 'Eathlete_new', 'Eathlete_new_info_request',\n",
       "       'ECCNote', 'ECCNote_camp', 'Ecoach_list_known_updated',\n",
       "       'ECoachEmailOpen', 'ECoachEval', 'ECoachImport', 'ECoachSearchHit',\n",
       "       'ECoachVideoViewHit', 'ECoachVisit', 'Ecolleges_going_to_the_event',\n",
       "       'Efailed_subscription', 'Ehighlight_video__regathlete_11',\n",
       "       'Ehighlight_video__regathlete_2', 'Ehighlight_video__regathlete_4',\n",
       "       'EEmailsDigest', 'Eparent_new', 'Eparent_welcome',\n",
       "       'Epost_event_email', 'Esms_update', 'CollegeProspects',\n",
       "       'CollegeProspects_Frequency', 'CollegeProspects_LastDate',\n",
       "       'CollegeProspects_Recency', 'MessagesReceived',\n",
       "       'MessagesReceived_Frequency', 'MessagesReceived_LastDate',\n",
       "       'MessagesReceived_Recency', 'MessagesSent',\n",
       "       'MessagesSent_Frequency', 'MessagesSent_LastDate',\n",
       "       'MessagesSent_Recency', 'Made_Team?', 'DateNum', 'NumYear',\n",
       "       'NumMonth', 'Subscriber?', 'monthly_price', 'Subscriptions_BOM',\n",
       "       'Subscription_Started', 'subscription_Ended', 'Subscriptions_EOM',\n",
       "       'RecencyNow', 'RecencyStat', 'AthleteRecordNumber', 'created_at',\n",
       "       'updated_at', 'status', 'NumMonth.1', 'NumMonth.2', 'ID',\n",
       "       'AthleteSub', 'CaptainU_CHURN', 'MSG_CHURN', 'EventsAttended_diff',\n",
       "       'Hits_diff', 'Hprofileview_diff', 'Hmessage_diff',\n",
       "       'Hsearchhit_diff', 'Hcoacheval_diff', 'Hvideoview_diff',\n",
       "       'Hemailopen_diff', 'Emails_diff', 'EAthlete newsletter_diff',\n",
       "       'Eathlete_new_diff', 'Eathlete_new_info_request_diff',\n",
       "       'ECCNote_diff', 'ECCNote_camp_diff',\n",
       "       'Ecoach_list_known_updated_diff', 'ECoachEmailOpen_diff',\n",
       "       'ECoachEval_diff', 'ECoachImport_diff', 'ECoachSearchHit_diff',\n",
       "       'ECoachVideoViewHit_diff', 'ECoachVisit_diff',\n",
       "       'Ecolleges_going_to_the_event_diff',\n",
       "       'Ehighlight_video__regathlete_11_diff',\n",
       "       'Ehighlight_video__regathlete_2_diff',\n",
       "       'Ehighlight_video__regathlete_4_diff', 'EEmailsDigest_diff',\n",
       "       'Eparent_new_diff', 'Eparent_welcome_diff',\n",
       "       'Epost_event_email_diff', 'Esms_update_diff',\n",
       "       'CollegeProspects_diff', 'MessagesReceived_diff',\n",
       "       'MessagesSent_diff'], dtype=object)"
      ]
     },
     "execution_count": 48,
     "metadata": {},
     "output_type": "execute_result"
    }
   ],
   "source": [
    "df.columns.values"
   ]
  },
  {
   "cell_type": "code",
   "execution_count": 49,
   "metadata": {
    "collapsed": true
   },
   "outputs": [],
   "source": [
    "df.drop(['Unnamed: 0', 'Athlete', 'Subscription', 'Month', 'sport',\n",
    "       'SegmentName', 'Duration', 'EventsAttended',\n",
    "       'EventsAttended_Frequency', 'EventsAttended_LastDate',\n",
    "       'EventsAttended_Recency', 'Hits', 'Hits_Frequency', 'Hits_LastDate',\n",
    "       'Hits_Recency', 'Hprofileview', 'Hcoachimport', 'Hmessage',\n",
    "       'Hsearchhit', 'HNULL', 'Hcoacheval', 'Hvideoview', 'Hemailopen',\n",
    "       'Emails', 'Emails_Frequency', 'Emails_LastDate', 'Emails_Recency',\n",
    "       'EAthlete newsletter', 'Eathlete_new', 'Eathlete_new_info_request',\n",
    "       'ECCNote', 'ECCNote_camp', 'Ecoach_list_known_updated',\n",
    "       'ECoachEmailOpen', 'ECoachEval', 'ECoachImport', 'ECoachSearchHit',\n",
    "       'ECoachVideoViewHit', 'ECoachVisit', 'Ecolleges_going_to_the_event',\n",
    "       'Efailed_subscription', 'Ehighlight_video__regathlete_11',\n",
    "       'Ehighlight_video__regathlete_2', 'Ehighlight_video__regathlete_4',\n",
    "       'EEmailsDigest', 'Eparent_new', 'Eparent_welcome',\n",
    "       'Epost_event_email', 'Esms_update', 'CollegeProspects',\n",
    "       'CollegeProspects_Frequency', 'CollegeProspects_LastDate',\n",
    "       'CollegeProspects_Recency', 'MessagesReceived',\n",
    "       'MessagesReceived_Frequency', 'MessagesReceived_LastDate',\n",
    "       'MessagesReceived_Recency', 'MessagesSent',\n",
    "       'MessagesSent_Frequency', 'MessagesSent_LastDate',\n",
    "       'MessagesSent_Recency', 'Made_Team?', 'DateNum',\n",
    "    'Subscriber?', 'monthly_price', 'Subscriptions_BOM',\n",
    "       'Subscription_Started', 'subscription_Ended', 'Subscriptions_EOM',\n",
    "       'RecencyNow', 'RecencyStat', 'AthleteRecordNumber', 'created_at',\n",
    "       'updated_at', 'status', 'NumMonth.1', 'NumMonth.2', 'ID',\n",
    "       'AthleteSub','MSG_CHURN'], axis=1, inplace=True)"
   ]
  },
  {
   "cell_type": "code",
   "execution_count": 37,
   "metadata": {
    "collapsed": false
   },
   "outputs": [
    {
     "data": {
      "text/plain": [
       "array(['gender', 'Duration', 'EventsAttended_Frequency', 'Hits_Frequency',\n",
       "       'Emails_Frequency', 'CollegeProspects_Frequency',\n",
       "       'MessagesReceived_Frequency', 'MessagesSent_Frequency', 'NumYear',\n",
       "       'NumMonth', 'monthly_price', 'TMChurn', 'Hprofileview_Freq',\n",
       "       'Hcoachimport_Freq', 'Hmessage_Freq', 'Hsearchhit_Freq',\n",
       "       'Hcoacheval_Freq', 'Hemailopen_Freq',\n",
       "       'Eathlete_new_info_request_Freq', 'Ecoach_list_known_updated_Freq',\n",
       "       'ECoachEmailOpen_Freq', 'ECoachEval_Freq', 'ECoachImport_Freq',\n",
       "       'ECoachSearchHit_Freq', 'ECoachVisit_Freq',\n",
       "       'Ecolleges_going_to_the_event_Freq', 'Efailed_subscription_Freq',\n",
       "       'EEmailsDigest_Freq', 'Epost_event_email_Freq', 'Esms_update_Freq',\n",
       "       'ECCNote_Freq'], dtype=object)"
      ]
     },
     "execution_count": 37,
     "metadata": {},
     "output_type": "execute_result"
    }
   ],
   "source": [
    "onechurn_freq.columns.values"
   ]
  },
  {
   "cell_type": "code",
   "execution_count": 36,
   "metadata": {
    "collapsed": true
   },
   "outputs": [],
   "source": [
    "onechurn_freq.drop(['Emails_Recency', 'status','EventsAttended_LastDate','Hits_LastDate',\n",
    "            'CollegeProspects_LastDate','created_at','updated_at','Month','Unnamed: 0',\n",
    "            'MSG_CHURN', 'Made_Team?','ID','subscription_Ended','SegmentName','EventsAttended_Recency',\n",
    "            'AthleteSub','Athlete','Subscription','DateNum','Hits', 'Unnamed: 0.1', 'Unnamed: 0.1.1',\n",
    "              'MessagesSent_LastDate','MessagesReceived_LastDate','Emails_LastDate','AthleteRecordNumber',\n",
    "             'Hits_Recency','CollegeProspects_Recency','MessagesSent_Recency',\n",
    "              'Subscriptions_EOM','Subscriptions_BOM','RecencyNow', 'RecencyStat','Subscription_Started',\n",
    "            'Subscriber?', 'MessagesReceived_Recency','Ehighlight_video__regathlete_11',\n",
    "               'Ehighlight_video__regathlete_2', \n",
    "             'Ehighlight_video__regathlete_4','HNULL','sport', 'Hits','EventsAttended',\n",
    "               'Hvideoview','Emails',\n",
    "            'ECoachVideoViewHit','CollegeProspects','MessagesReceived',\n",
    "               'MessagesSent','CaptainU_CHURN', 'Hprofileview',\n",
    "       'Hcoachimport', 'Hmessage', 'Hsearchhit', 'HNULL', 'Hcoacheval',\n",
    "       'Hvideoview', 'Hemailopen','EAthlete newsletter',\n",
    "       'Eathlete_new', 'Eathlete_new_info_request', 'ECCNote',\n",
    "       'ECCNote_camp', 'Ecoach_list_known_updated', 'ECoachEmailOpen',\n",
    "       'ECoachEval', 'ECoachImport', 'ECoachSearchHit',\n",
    "       'ECoachVideoViewHit', 'ECoachVisit', 'Ecolleges_going_to_the_event',\n",
    "       'Efailed_subscription','EEmailsDigest', 'Eparent_new', 'Eparent_welcome',\n",
    "       'Epost_event_email', 'Esms_update'], axis=1, inplace=True)"
   ]
  },
  {
   "cell_type": "code",
   "execution_count": 38,
   "metadata": {
    "collapsed": false
   },
   "outputs": [
    {
     "data": {
      "text/plain": [
       "(133394, 31)"
      ]
     },
     "execution_count": 38,
     "metadata": {},
     "output_type": "execute_result"
    }
   ],
   "source": [
    "onechurn_freq.shape"
   ]
  },
  {
   "cell_type": "code",
   "execution_count": 129,
   "metadata": {
    "collapsed": false
   },
   "outputs": [
    {
     "data": {
      "text/plain": [
       "(133419, 34)"
      ]
     },
     "execution_count": 129,
     "metadata": {},
     "output_type": "execute_result"
    }
   ],
   "source": [
    "twochurn.shape"
   ]
  },
  {
   "cell_type": "code",
   "execution_count": 50,
   "metadata": {
    "collapsed": true
   },
   "outputs": [],
   "source": [
    "date = df[['NumYear', 'NumMonth']]\n",
    "churn = df[['CaptainU_CHURN']]\n",
    "categorical = df[['gender']]"
   ]
  },
  {
   "cell_type": "code",
   "execution_count": 37,
   "metadata": {
    "collapsed": false
   },
   "outputs": [],
   "source": [
    "date = tmchurn[['NumYear', 'NumMonth']]\n",
    "churn = tmchurn[['CaptainU_CHURN']]\n",
    "categorical = tmchurn[['gender']]"
   ]
  },
  {
   "cell_type": "code",
   "execution_count": 130,
   "metadata": {
    "collapsed": true
   },
   "outputs": [],
   "source": [
    "date = twochurn[['NumYear', 'NumMonth']]\n",
    "churn = twochurn[['CaptainU_CHURN']]\n",
    "categorical = twochurn[['gender']]"
   ]
  },
  {
   "cell_type": "code",
   "execution_count": 85,
   "metadata": {
    "collapsed": true
   },
   "outputs": [],
   "source": [
    "date = onechurn[['NumYear', 'NumMonth']]\n",
    "churn = onechurn[['TMChurn']]\n",
    "categorical = onechurn[['gender']]"
   ]
  },
  {
   "cell_type": "code",
   "execution_count": 39,
   "metadata": {
    "collapsed": true
   },
   "outputs": [],
   "source": [
    "date = onechurn_freq[['NumYear', 'NumMonth']]\n",
    "churn = onechurn_freq[['TMChurn']]\n",
    "categorical = onechurn_freq[['gender']]"
   ]
  },
  {
   "cell_type": "code",
   "execution_count": null,
   "metadata": {
    "collapsed": true
   },
   "outputs": [],
   "source": []
  },
  {
   "cell_type": "code",
   "execution_count": 51,
   "metadata": {
    "collapsed": false
   },
   "outputs": [
    {
     "data": {
      "text/plain": [
       "(133419, 2)"
      ]
     },
     "execution_count": 51,
     "metadata": {},
     "output_type": "execute_result"
    }
   ],
   "source": [
    "date.shape"
   ]
  },
  {
   "cell_type": "code",
   "execution_count": 54,
   "metadata": {
    "collapsed": false
   },
   "outputs": [
    {
     "data": {
      "text/html": [
       "<div>\n",
       "<table border=\"1\" class=\"dataframe\">\n",
       "  <thead>\n",
       "    <tr style=\"text-align: right;\">\n",
       "      <th></th>\n",
       "      <th>NumYear</th>\n",
       "      <th>NumMonth</th>\n",
       "    </tr>\n",
       "  </thead>\n",
       "  <tbody>\n",
       "    <tr>\n",
       "      <th>0</th>\n",
       "      <td>2013</td>\n",
       "      <td>7</td>\n",
       "    </tr>\n",
       "    <tr>\n",
       "      <th>1</th>\n",
       "      <td>2013</td>\n",
       "      <td>8</td>\n",
       "    </tr>\n",
       "    <tr>\n",
       "      <th>2</th>\n",
       "      <td>2012</td>\n",
       "      <td>1</td>\n",
       "    </tr>\n",
       "    <tr>\n",
       "      <th>3</th>\n",
       "      <td>2012</td>\n",
       "      <td>2</td>\n",
       "    </tr>\n",
       "    <tr>\n",
       "      <th>4</th>\n",
       "      <td>2012</td>\n",
       "      <td>3</td>\n",
       "    </tr>\n",
       "  </tbody>\n",
       "</table>\n",
       "</div>"
      ],
      "text/plain": [
       "   NumYear  NumMonth\n",
       "0     2013         7\n",
       "1     2013         8\n",
       "2     2012         1\n",
       "3     2012         2\n",
       "4     2012         3"
      ]
     },
     "execution_count": 54,
     "metadata": {},
     "output_type": "execute_result"
    }
   ],
   "source": [
    "date.head(5)"
   ]
  },
  {
   "cell_type": "code",
   "execution_count": 53,
   "metadata": {
    "collapsed": true
   },
   "outputs": [],
   "source": [
    "churn = churn.reset_index(drop=True)\n",
    "date = date.reset_index(drop=True)\n",
    "categorical = categorical.reset_index(drop=True)"
   ]
  },
  {
   "cell_type": "code",
   "execution_count": 55,
   "metadata": {
    "collapsed": true
   },
   "outputs": [],
   "source": [
    "df.drop(categorical, axis=1, inplace=True)\n",
    "df.drop(date, axis=1, inplace=True)\n",
    "df.drop(churn, axis=1, inplace=True)"
   ]
  },
  {
   "cell_type": "code",
   "execution_count": 42,
   "metadata": {
    "collapsed": true
   },
   "outputs": [],
   "source": [
    "tmchurn.drop(categorical, axis=1, inplace=True)\n",
    "tmchurn.drop(date, axis=1, inplace=True)\n",
    "tmchurn.drop(churn, axis=1, inplace=True)"
   ]
  },
  {
   "cell_type": "code",
   "execution_count": 134,
   "metadata": {
    "collapsed": true
   },
   "outputs": [],
   "source": [
    "twochurn.drop(categorical, axis=1, inplace=True)\n",
    "twochurn.drop(date, axis=1, inplace=True)\n",
    "twochurn.drop(churn, axis=1, inplace=True)"
   ]
  },
  {
   "cell_type": "code",
   "execution_count": 89,
   "metadata": {
    "collapsed": true
   },
   "outputs": [],
   "source": [
    "onechurn.drop(categorical, axis=1, inplace=True)\n",
    "onechurn.drop(date, axis=1, inplace=True)\n",
    "onechurn.drop(churn, axis=1, inplace=True)"
   ]
  },
  {
   "cell_type": "code",
   "execution_count": 43,
   "metadata": {
    "collapsed": true
   },
   "outputs": [],
   "source": [
    "onechurn_freq.drop(categorical, axis=1, inplace=True)\n",
    "onechurn_freq.drop(date, axis=1, inplace=True)\n",
    "onechurn_freq.drop(churn, axis=1, inplace=True)"
   ]
  },
  {
   "cell_type": "code",
   "execution_count": 135,
   "metadata": {
    "collapsed": false
   },
   "outputs": [
    {
     "data": {
      "text/plain": [
       "(133419, 30)"
      ]
     },
     "execution_count": 135,
     "metadata": {},
     "output_type": "execute_result"
    }
   ],
   "source": [
    "twochurn.shape"
   ]
  },
  {
   "cell_type": "code",
   "execution_count": 44,
   "metadata": {
    "collapsed": false
   },
   "outputs": [
    {
     "data": {
      "text/plain": [
       "(133394, 27)"
      ]
     },
     "execution_count": 44,
     "metadata": {},
     "output_type": "execute_result"
    }
   ],
   "source": [
    "onechurn_freq.shape"
   ]
  },
  {
   "cell_type": "code",
   "execution_count": 56,
   "metadata": {
    "collapsed": true
   },
   "outputs": [],
   "source": [
    "categorical = pd.get_dummies(categorical)"
   ]
  },
  {
   "cell_type": "code",
   "execution_count": 137,
   "metadata": {
    "collapsed": true
   },
   "outputs": [],
   "source": [
    "twochurn = twochurn.replace('NaN',0)"
   ]
  },
  {
   "cell_type": "code",
   "execution_count": 92,
   "metadata": {
    "collapsed": true
   },
   "outputs": [],
   "source": [
    "onechurn = onechurn.replace('NaN',0)"
   ]
  },
  {
   "cell_type": "code",
   "execution_count": 46,
   "metadata": {
    "collapsed": true
   },
   "outputs": [],
   "source": [
    "onechurn_freq = onechurn_freq.replace('NaN',0)"
   ]
  },
  {
   "cell_type": "code",
   "execution_count": 57,
   "metadata": {
    "collapsed": true
   },
   "outputs": [],
   "source": [
    "df = df.replace('NaN',0)"
   ]
  },
  {
   "cell_type": "code",
   "execution_count": 138,
   "metadata": {
    "collapsed": true
   },
   "outputs": [],
   "source": [
    "std_scale = preprocessing.StandardScaler().fit(twochurn)\n",
    "df_std = std_scale.transform(twochurn)\n",
    "std_pd = pd.DataFrame(df_std, columns=twochurn.columns)"
   ]
  },
  {
   "cell_type": "code",
   "execution_count": 47,
   "metadata": {
    "collapsed": true
   },
   "outputs": [],
   "source": [
    "std_scale = preprocessing.StandardScaler().fit(onechurn_freq)\n",
    "df_std = std_scale.transform(onechurn_freq)\n",
    "std_pd = pd.DataFrame(df_std, columns=onechurn_freq.columns)"
   ]
  },
  {
   "cell_type": "code",
   "execution_count": 58,
   "metadata": {
    "collapsed": true
   },
   "outputs": [],
   "source": [
    "std_scale = preprocessing.StandardScaler().fit(df)\n",
    "df_std = std_scale.transform(df)\n",
    "std_pd = pd.DataFrame(df_std, columns=df.columns)"
   ]
  },
  {
   "cell_type": "code",
   "execution_count": 59,
   "metadata": {
    "collapsed": false
   },
   "outputs": [
    {
     "data": {
      "text/plain": [
       "(133419, 33)"
      ]
     },
     "execution_count": 59,
     "metadata": {},
     "output_type": "execute_result"
    }
   ],
   "source": [
    "std_pd.shape"
   ]
  },
  {
   "cell_type": "code",
   "execution_count": 60,
   "metadata": {
    "collapsed": false
   },
   "outputs": [
    {
     "data": {
      "text/plain": [
       "array(['EventsAttended_diff', 'Hits_diff', 'Hprofileview_diff',\n",
       "       'Hmessage_diff', 'Hsearchhit_diff', 'Hcoacheval_diff',\n",
       "       'Hvideoview_diff', 'Hemailopen_diff', 'Emails_diff',\n",
       "       'EAthlete newsletter_diff', 'Eathlete_new_diff',\n",
       "       'Eathlete_new_info_request_diff', 'ECCNote_diff',\n",
       "       'ECCNote_camp_diff', 'Ecoach_list_known_updated_diff',\n",
       "       'ECoachEmailOpen_diff', 'ECoachEval_diff', 'ECoachImport_diff',\n",
       "       'ECoachSearchHit_diff', 'ECoachVideoViewHit_diff',\n",
       "       'ECoachVisit_diff', 'Ecolleges_going_to_the_event_diff',\n",
       "       'Ehighlight_video__regathlete_11_diff',\n",
       "       'Ehighlight_video__regathlete_2_diff',\n",
       "       'Ehighlight_video__regathlete_4_diff', 'EEmailsDigest_diff',\n",
       "       'Eparent_new_diff', 'Eparent_welcome_diff',\n",
       "       'Epost_event_email_diff', 'Esms_update_diff',\n",
       "       'CollegeProspects_diff', 'MessagesReceived_diff',\n",
       "       'MessagesSent_diff'], dtype=object)"
      ]
     },
     "execution_count": 60,
     "metadata": {},
     "output_type": "execute_result"
    }
   ],
   "source": [
    "std_pd.columns.values"
   ]
  },
  {
   "cell_type": "code",
   "execution_count": 61,
   "metadata": {
    "collapsed": true
   },
   "outputs": [],
   "source": [
    "categorical['index_col'] = categorical.index\n",
    "date['index_col'] = date.index\n",
    "churn['index_col'] = churn.index"
   ]
  },
  {
   "cell_type": "code",
   "execution_count": 62,
   "metadata": {
    "collapsed": true
   },
   "outputs": [],
   "source": [
    "std_pd['index_col'] = std_pd.index"
   ]
  },
  {
   "cell_type": "code",
   "execution_count": 63,
   "metadata": {
    "collapsed": true
   },
   "outputs": [],
   "source": [
    "date_cat = pd.merge(date,categorical, on='index_col')\n",
    "df = pd.merge(date_cat,std_pd, on='index_col')\n",
    "df = pd.merge(df,churn, on='index_col')"
   ]
  },
  {
   "cell_type": "code",
   "execution_count": 51,
   "metadata": {
    "collapsed": true
   },
   "outputs": [],
   "source": [
    "date_cat = pd.merge(date,categorical, on='index_col')\n",
    "onechurn_freq = pd.merge(date_cat,std_pd, on='index_col')\n",
    "onechurn_freq = pd.merge(onechurn_freq,churn, on='index_col')"
   ]
  },
  {
   "cell_type": "code",
   "execution_count": 52,
   "metadata": {
    "collapsed": false
   },
   "outputs": [
    {
     "data": {
      "text/plain": [
       "(133394, 33)"
      ]
     },
     "execution_count": 52,
     "metadata": {},
     "output_type": "execute_result"
    }
   ],
   "source": [
    "onechurn_freq.shape"
   ]
  },
  {
   "cell_type": "code",
   "execution_count": 64,
   "metadata": {
    "collapsed": false
   },
   "outputs": [
    {
     "data": {
      "text/plain": [
       "(133419, 39)"
      ]
     },
     "execution_count": 64,
     "metadata": {},
     "output_type": "execute_result"
    }
   ],
   "source": [
    "df.shape"
   ]
  },
  {
   "cell_type": "code",
   "execution_count": 65,
   "metadata": {
    "collapsed": false
   },
   "outputs": [
    {
     "data": {
      "text/plain": [
       "array(['NumYear', 'NumMonth', 'index_col', 'gender_F', 'gender_M',\n",
       "       'EventsAttended_diff', 'Hits_diff', 'Hprofileview_diff',\n",
       "       'Hmessage_diff', 'Hsearchhit_diff', 'Hcoacheval_diff',\n",
       "       'Hvideoview_diff', 'Hemailopen_diff', 'Emails_diff',\n",
       "       'EAthlete newsletter_diff', 'Eathlete_new_diff',\n",
       "       'Eathlete_new_info_request_diff', 'ECCNote_diff',\n",
       "       'ECCNote_camp_diff', 'Ecoach_list_known_updated_diff',\n",
       "       'ECoachEmailOpen_diff', 'ECoachEval_diff', 'ECoachImport_diff',\n",
       "       'ECoachSearchHit_diff', 'ECoachVideoViewHit_diff',\n",
       "       'ECoachVisit_diff', 'Ecolleges_going_to_the_event_diff',\n",
       "       'Ehighlight_video__regathlete_11_diff',\n",
       "       'Ehighlight_video__regathlete_2_diff',\n",
       "       'Ehighlight_video__regathlete_4_diff', 'EEmailsDigest_diff',\n",
       "       'Eparent_new_diff', 'Eparent_welcome_diff',\n",
       "       'Epost_event_email_diff', 'Esms_update_diff',\n",
       "       'CollegeProspects_diff', 'MessagesReceived_diff',\n",
       "       'MessagesSent_diff', 'CaptainU_CHURN'], dtype=object)"
      ]
     },
     "execution_count": 65,
     "metadata": {},
     "output_type": "execute_result"
    }
   ],
   "source": [
    "df.columns.values"
   ]
  },
  {
   "cell_type": "code",
   "execution_count": 143,
   "metadata": {
    "collapsed": false
   },
   "outputs": [
    {
     "data": {
      "text/plain": [
       "(133419, 36)"
      ]
     },
     "execution_count": 143,
     "metadata": {},
     "output_type": "execute_result"
    }
   ],
   "source": [
    "twochurn.shape"
   ]
  },
  {
   "cell_type": "code",
   "execution_count": 53,
   "metadata": {
    "collapsed": false
   },
   "outputs": [
    {
     "data": {
      "text/plain": [
       "array(['NumYear', 'NumMonth', 'index_col', 'gender_F', 'gender_M',\n",
       "       'Duration', 'EventsAttended_Frequency', 'Hits_Frequency',\n",
       "       'Emails_Frequency', 'CollegeProspects_Frequency',\n",
       "       'MessagesReceived_Frequency', 'MessagesSent_Frequency',\n",
       "       'monthly_price', 'Hprofileview_Freq', 'Hcoachimport_Freq',\n",
       "       'Hmessage_Freq', 'Hsearchhit_Freq', 'Hcoacheval_Freq',\n",
       "       'Hemailopen_Freq', 'Eathlete_new_info_request_Freq',\n",
       "       'Ecoach_list_known_updated_Freq', 'ECoachEmailOpen_Freq',\n",
       "       'ECoachEval_Freq', 'ECoachImport_Freq', 'ECoachSearchHit_Freq',\n",
       "       'ECoachVisit_Freq', 'Ecolleges_going_to_the_event_Freq',\n",
       "       'Efailed_subscription_Freq', 'EEmailsDigest_Freq',\n",
       "       'Epost_event_email_Freq', 'Esms_update_Freq', 'ECCNote_Freq',\n",
       "       'TMChurn'], dtype=object)"
      ]
     },
     "execution_count": 53,
     "metadata": {},
     "output_type": "execute_result"
    }
   ],
   "source": [
    "df.columns.values"
   ]
  },
  {
   "cell_type": "code",
   "execution_count": 54,
   "metadata": {
    "collapsed": false
   },
   "outputs": [
    {
     "data": {
      "text/html": [
       "<div>\n",
       "<table border=\"1\" class=\"dataframe\">\n",
       "  <thead>\n",
       "    <tr style=\"text-align: right;\">\n",
       "      <th></th>\n",
       "      <th>NumYear</th>\n",
       "      <th>NumMonth</th>\n",
       "      <th>index_col</th>\n",
       "      <th>gender_F</th>\n",
       "      <th>gender_M</th>\n",
       "      <th>Duration</th>\n",
       "      <th>EventsAttended_Frequency</th>\n",
       "      <th>Hits_Frequency</th>\n",
       "      <th>Emails_Frequency</th>\n",
       "      <th>CollegeProspects_Frequency</th>\n",
       "      <th>...</th>\n",
       "      <th>ECoachImport_Freq</th>\n",
       "      <th>ECoachSearchHit_Freq</th>\n",
       "      <th>ECoachVisit_Freq</th>\n",
       "      <th>Ecolleges_going_to_the_event_Freq</th>\n",
       "      <th>Efailed_subscription_Freq</th>\n",
       "      <th>EEmailsDigest_Freq</th>\n",
       "      <th>Epost_event_email_Freq</th>\n",
       "      <th>Esms_update_Freq</th>\n",
       "      <th>ECCNote_Freq</th>\n",
       "      <th>TMChurn</th>\n",
       "    </tr>\n",
       "  </thead>\n",
       "  <tbody>\n",
       "    <tr>\n",
       "      <th>0</th>\n",
       "      <td>2012</td>\n",
       "      <td>1</td>\n",
       "      <td>0</td>\n",
       "      <td>1</td>\n",
       "      <td>0</td>\n",
       "      <td>-1.195905</td>\n",
       "      <td>-0.718782</td>\n",
       "      <td>-0.782218</td>\n",
       "      <td>-0.796509</td>\n",
       "      <td>-0.637627</td>\n",
       "      <td>...</td>\n",
       "      <td>-0.12585</td>\n",
       "      <td>-0.781911</td>\n",
       "      <td>-0.305</td>\n",
       "      <td>-0.420501</td>\n",
       "      <td>-0.424879</td>\n",
       "      <td>0.0</td>\n",
       "      <td>-0.480499</td>\n",
       "      <td>-0.086895</td>\n",
       "      <td>-0.394384</td>\n",
       "      <td>0</td>\n",
       "    </tr>\n",
       "    <tr>\n",
       "      <th>1</th>\n",
       "      <td>2012</td>\n",
       "      <td>1</td>\n",
       "      <td>1</td>\n",
       "      <td>1</td>\n",
       "      <td>0</td>\n",
       "      <td>-1.474449</td>\n",
       "      <td>-0.567735</td>\n",
       "      <td>-0.773345</td>\n",
       "      <td>-0.796509</td>\n",
       "      <td>-0.482539</td>\n",
       "      <td>...</td>\n",
       "      <td>-0.12585</td>\n",
       "      <td>-0.781911</td>\n",
       "      <td>-0.305</td>\n",
       "      <td>-0.420501</td>\n",
       "      <td>-0.424879</td>\n",
       "      <td>0.0</td>\n",
       "      <td>-0.480499</td>\n",
       "      <td>-0.086895</td>\n",
       "      <td>-0.394384</td>\n",
       "      <td>1</td>\n",
       "    </tr>\n",
       "    <tr>\n",
       "      <th>2</th>\n",
       "      <td>2012</td>\n",
       "      <td>1</td>\n",
       "      <td>2</td>\n",
       "      <td>1</td>\n",
       "      <td>0</td>\n",
       "      <td>0.020680</td>\n",
       "      <td>0.640635</td>\n",
       "      <td>-0.817710</td>\n",
       "      <td>-0.796509</td>\n",
       "      <td>0.137814</td>\n",
       "      <td>...</td>\n",
       "      <td>-0.12585</td>\n",
       "      <td>-0.781911</td>\n",
       "      <td>-0.305</td>\n",
       "      <td>-0.420501</td>\n",
       "      <td>-0.424879</td>\n",
       "      <td>0.0</td>\n",
       "      <td>-0.480499</td>\n",
       "      <td>-0.086895</td>\n",
       "      <td>-0.394384</td>\n",
       "      <td>0</td>\n",
       "    </tr>\n",
       "    <tr>\n",
       "      <th>3</th>\n",
       "      <td>2012</td>\n",
       "      <td>1</td>\n",
       "      <td>3</td>\n",
       "      <td>1</td>\n",
       "      <td>0</td>\n",
       "      <td>-0.802665</td>\n",
       "      <td>-0.567735</td>\n",
       "      <td>-0.826583</td>\n",
       "      <td>-0.796509</td>\n",
       "      <td>-0.637627</td>\n",
       "      <td>...</td>\n",
       "      <td>-0.12585</td>\n",
       "      <td>-0.781911</td>\n",
       "      <td>-0.305</td>\n",
       "      <td>-0.420501</td>\n",
       "      <td>-0.424879</td>\n",
       "      <td>0.0</td>\n",
       "      <td>-0.480499</td>\n",
       "      <td>-0.086895</td>\n",
       "      <td>-0.394384</td>\n",
       "      <td>0</td>\n",
       "    </tr>\n",
       "    <tr>\n",
       "      <th>4</th>\n",
       "      <td>2012</td>\n",
       "      <td>1</td>\n",
       "      <td>4</td>\n",
       "      <td>1</td>\n",
       "      <td>0</td>\n",
       "      <td>-0.532313</td>\n",
       "      <td>-0.416689</td>\n",
       "      <td>-0.755599</td>\n",
       "      <td>-0.796509</td>\n",
       "      <td>-0.443767</td>\n",
       "      <td>...</td>\n",
       "      <td>-0.12585</td>\n",
       "      <td>-0.781911</td>\n",
       "      <td>-0.305</td>\n",
       "      <td>-0.420501</td>\n",
       "      <td>-0.424879</td>\n",
       "      <td>0.0</td>\n",
       "      <td>-0.480499</td>\n",
       "      <td>-0.086895</td>\n",
       "      <td>-0.394384</td>\n",
       "      <td>0</td>\n",
       "    </tr>\n",
       "  </tbody>\n",
       "</table>\n",
       "<p>5 rows × 33 columns</p>\n",
       "</div>"
      ],
      "text/plain": [
       "   NumYear  NumMonth  index_col  gender_F  gender_M  Duration  \\\n",
       "0     2012         1          0         1         0 -1.195905   \n",
       "1     2012         1          1         1         0 -1.474449   \n",
       "2     2012         1          2         1         0  0.020680   \n",
       "3     2012         1          3         1         0 -0.802665   \n",
       "4     2012         1          4         1         0 -0.532313   \n",
       "\n",
       "   EventsAttended_Frequency  Hits_Frequency  Emails_Frequency  \\\n",
       "0                 -0.718782       -0.782218         -0.796509   \n",
       "1                 -0.567735       -0.773345         -0.796509   \n",
       "2                  0.640635       -0.817710         -0.796509   \n",
       "3                 -0.567735       -0.826583         -0.796509   \n",
       "4                 -0.416689       -0.755599         -0.796509   \n",
       "\n",
       "   CollegeProspects_Frequency   ...     ECoachImport_Freq  \\\n",
       "0                   -0.637627   ...              -0.12585   \n",
       "1                   -0.482539   ...              -0.12585   \n",
       "2                    0.137814   ...              -0.12585   \n",
       "3                   -0.637627   ...              -0.12585   \n",
       "4                   -0.443767   ...              -0.12585   \n",
       "\n",
       "   ECoachSearchHit_Freq  ECoachVisit_Freq  Ecolleges_going_to_the_event_Freq  \\\n",
       "0             -0.781911            -0.305                          -0.420501   \n",
       "1             -0.781911            -0.305                          -0.420501   \n",
       "2             -0.781911            -0.305                          -0.420501   \n",
       "3             -0.781911            -0.305                          -0.420501   \n",
       "4             -0.781911            -0.305                          -0.420501   \n",
       "\n",
       "   Efailed_subscription_Freq  EEmailsDigest_Freq  Epost_event_email_Freq  \\\n",
       "0                  -0.424879                 0.0               -0.480499   \n",
       "1                  -0.424879                 0.0               -0.480499   \n",
       "2                  -0.424879                 0.0               -0.480499   \n",
       "3                  -0.424879                 0.0               -0.480499   \n",
       "4                  -0.424879                 0.0               -0.480499   \n",
       "\n",
       "   Esms_update_Freq  ECCNote_Freq  TMChurn  \n",
       "0         -0.086895     -0.394384        0  \n",
       "1         -0.086895     -0.394384        1  \n",
       "2         -0.086895     -0.394384        0  \n",
       "3         -0.086895     -0.394384        0  \n",
       "4         -0.086895     -0.394384        0  \n",
       "\n",
       "[5 rows x 33 columns]"
      ]
     },
     "execution_count": 54,
     "metadata": {},
     "output_type": "execute_result"
    }
   ],
   "source": [
    "onechurn_freq.head(5)"
   ]
  },
  {
   "cell_type": "code",
   "execution_count": 66,
   "metadata": {
    "collapsed": false
   },
   "outputs": [
    {
     "data": {
      "text/html": [
       "<div>\n",
       "<table border=\"1\" class=\"dataframe\">\n",
       "  <thead>\n",
       "    <tr style=\"text-align: right;\">\n",
       "      <th></th>\n",
       "      <th>NumYear</th>\n",
       "      <th>NumMonth</th>\n",
       "      <th>index_col</th>\n",
       "      <th>gender_F</th>\n",
       "      <th>gender_M</th>\n",
       "      <th>EventsAttended_diff</th>\n",
       "      <th>Hits_diff</th>\n",
       "      <th>Hprofileview_diff</th>\n",
       "      <th>Hmessage_diff</th>\n",
       "      <th>Hsearchhit_diff</th>\n",
       "      <th>...</th>\n",
       "      <th>Ehighlight_video__regathlete_4_diff</th>\n",
       "      <th>EEmailsDigest_diff</th>\n",
       "      <th>Eparent_new_diff</th>\n",
       "      <th>Eparent_welcome_diff</th>\n",
       "      <th>Epost_event_email_diff</th>\n",
       "      <th>Esms_update_diff</th>\n",
       "      <th>CollegeProspects_diff</th>\n",
       "      <th>MessagesReceived_diff</th>\n",
       "      <th>MessagesSent_diff</th>\n",
       "      <th>CaptainU_CHURN</th>\n",
       "    </tr>\n",
       "  </thead>\n",
       "  <tbody>\n",
       "    <tr>\n",
       "      <th>0</th>\n",
       "      <td>2013</td>\n",
       "      <td>7</td>\n",
       "      <td>0</td>\n",
       "      <td>1</td>\n",
       "      <td>0</td>\n",
       "      <td>0.023155</td>\n",
       "      <td>0.056229</td>\n",
       "      <td>-0.006264</td>\n",
       "      <td>0.004746</td>\n",
       "      <td>0.111589</td>\n",
       "      <td>...</td>\n",
       "      <td>0.003835</td>\n",
       "      <td>0.0</td>\n",
       "      <td>0.012852</td>\n",
       "      <td>0.031013</td>\n",
       "      <td>0.001318</td>\n",
       "      <td>0.003605</td>\n",
       "      <td>0.007447</td>\n",
       "      <td>-0.017385</td>\n",
       "      <td>0.006295</td>\n",
       "      <td>1</td>\n",
       "    </tr>\n",
       "    <tr>\n",
       "      <th>1</th>\n",
       "      <td>2013</td>\n",
       "      <td>8</td>\n",
       "      <td>1</td>\n",
       "      <td>1</td>\n",
       "      <td>0</td>\n",
       "      <td>0.023155</td>\n",
       "      <td>-0.196247</td>\n",
       "      <td>-0.006264</td>\n",
       "      <td>0.004746</td>\n",
       "      <td>-0.411229</td>\n",
       "      <td>...</td>\n",
       "      <td>0.003835</td>\n",
       "      <td>0.0</td>\n",
       "      <td>0.012852</td>\n",
       "      <td>0.031013</td>\n",
       "      <td>0.001318</td>\n",
       "      <td>0.003605</td>\n",
       "      <td>0.007447</td>\n",
       "      <td>-0.017385</td>\n",
       "      <td>0.006295</td>\n",
       "      <td>0</td>\n",
       "    </tr>\n",
       "    <tr>\n",
       "      <th>2</th>\n",
       "      <td>2012</td>\n",
       "      <td>1</td>\n",
       "      <td>2</td>\n",
       "      <td>1</td>\n",
       "      <td>0</td>\n",
       "      <td>0.023155</td>\n",
       "      <td>-0.027929</td>\n",
       "      <td>-0.006264</td>\n",
       "      <td>0.004746</td>\n",
       "      <td>-0.062684</td>\n",
       "      <td>...</td>\n",
       "      <td>0.003835</td>\n",
       "      <td>0.0</td>\n",
       "      <td>0.012852</td>\n",
       "      <td>0.031013</td>\n",
       "      <td>0.001318</td>\n",
       "      <td>0.003605</td>\n",
       "      <td>0.007447</td>\n",
       "      <td>-0.017385</td>\n",
       "      <td>0.006295</td>\n",
       "      <td>0</td>\n",
       "    </tr>\n",
       "    <tr>\n",
       "      <th>3</th>\n",
       "      <td>2012</td>\n",
       "      <td>2</td>\n",
       "      <td>3</td>\n",
       "      <td>1</td>\n",
       "      <td>0</td>\n",
       "      <td>-1.267546</td>\n",
       "      <td>-0.112088</td>\n",
       "      <td>-0.594435</td>\n",
       "      <td>0.004746</td>\n",
       "      <td>-0.062684</td>\n",
       "      <td>...</td>\n",
       "      <td>0.003835</td>\n",
       "      <td>0.0</td>\n",
       "      <td>0.012852</td>\n",
       "      <td>0.031013</td>\n",
       "      <td>0.001318</td>\n",
       "      <td>0.003605</td>\n",
       "      <td>-0.117587</td>\n",
       "      <td>-0.017385</td>\n",
       "      <td>0.006295</td>\n",
       "      <td>0</td>\n",
       "    </tr>\n",
       "    <tr>\n",
       "      <th>4</th>\n",
       "      <td>2012</td>\n",
       "      <td>3</td>\n",
       "      <td>4</td>\n",
       "      <td>1</td>\n",
       "      <td>0</td>\n",
       "      <td>0.023155</td>\n",
       "      <td>-0.027929</td>\n",
       "      <td>-0.006264</td>\n",
       "      <td>0.004746</td>\n",
       "      <td>-0.062684</td>\n",
       "      <td>...</td>\n",
       "      <td>0.003835</td>\n",
       "      <td>0.0</td>\n",
       "      <td>0.012852</td>\n",
       "      <td>0.031013</td>\n",
       "      <td>0.001318</td>\n",
       "      <td>0.003605</td>\n",
       "      <td>0.007447</td>\n",
       "      <td>-0.017385</td>\n",
       "      <td>0.006295</td>\n",
       "      <td>0</td>\n",
       "    </tr>\n",
       "  </tbody>\n",
       "</table>\n",
       "<p>5 rows × 39 columns</p>\n",
       "</div>"
      ],
      "text/plain": [
       "   NumYear  NumMonth  index_col  gender_F  gender_M  EventsAttended_diff  \\\n",
       "0     2013         7          0         1         0             0.023155   \n",
       "1     2013         8          1         1         0             0.023155   \n",
       "2     2012         1          2         1         0             0.023155   \n",
       "3     2012         2          3         1         0            -1.267546   \n",
       "4     2012         3          4         1         0             0.023155   \n",
       "\n",
       "   Hits_diff  Hprofileview_diff  Hmessage_diff  Hsearchhit_diff  \\\n",
       "0   0.056229          -0.006264       0.004746         0.111589   \n",
       "1  -0.196247          -0.006264       0.004746        -0.411229   \n",
       "2  -0.027929          -0.006264       0.004746        -0.062684   \n",
       "3  -0.112088          -0.594435       0.004746        -0.062684   \n",
       "4  -0.027929          -0.006264       0.004746        -0.062684   \n",
       "\n",
       "        ...        Ehighlight_video__regathlete_4_diff  EEmailsDigest_diff  \\\n",
       "0       ...                                   0.003835                 0.0   \n",
       "1       ...                                   0.003835                 0.0   \n",
       "2       ...                                   0.003835                 0.0   \n",
       "3       ...                                   0.003835                 0.0   \n",
       "4       ...                                   0.003835                 0.0   \n",
       "\n",
       "   Eparent_new_diff  Eparent_welcome_diff  Epost_event_email_diff  \\\n",
       "0          0.012852              0.031013                0.001318   \n",
       "1          0.012852              0.031013                0.001318   \n",
       "2          0.012852              0.031013                0.001318   \n",
       "3          0.012852              0.031013                0.001318   \n",
       "4          0.012852              0.031013                0.001318   \n",
       "\n",
       "   Esms_update_diff  CollegeProspects_diff  MessagesReceived_diff  \\\n",
       "0          0.003605               0.007447              -0.017385   \n",
       "1          0.003605               0.007447              -0.017385   \n",
       "2          0.003605               0.007447              -0.017385   \n",
       "3          0.003605              -0.117587              -0.017385   \n",
       "4          0.003605               0.007447              -0.017385   \n",
       "\n",
       "   MessagesSent_diff  CaptainU_CHURN  \n",
       "0           0.006295               1  \n",
       "1           0.006295               0  \n",
       "2           0.006295               0  \n",
       "3           0.006295               0  \n",
       "4           0.006295               0  \n",
       "\n",
       "[5 rows x 39 columns]"
      ]
     },
     "execution_count": 66,
     "metadata": {},
     "output_type": "execute_result"
    }
   ],
   "source": [
    "df.head(5)"
   ]
  },
  {
   "cell_type": "code",
   "execution_count": 54,
   "metadata": {
    "collapsed": true
   },
   "outputs": [],
   "source": [
    "record_2014 = tmchurn[tmchurn['NumYear']==2014]"
   ]
  },
  {
   "cell_type": "code",
   "execution_count": 55,
   "metadata": {
    "collapsed": true
   },
   "outputs": [],
   "source": [
    "record_2014 = onechurn_freq[onechurn_freq['NumYear']==2014]"
   ]
  },
  {
   "cell_type": "code",
   "execution_count": 67,
   "metadata": {
    "collapsed": true
   },
   "outputs": [],
   "source": [
    "record_2014 = df[df['NumYear']==2014]"
   ]
  },
  {
   "cell_type": "code",
   "execution_count": 144,
   "metadata": {
    "collapsed": true
   },
   "outputs": [],
   "source": [
    "record_2014 = twochurn[twochurn['NumYear']==2014]"
   ]
  },
  {
   "cell_type": "code",
   "execution_count": 99,
   "metadata": {
    "collapsed": false
   },
   "outputs": [
    {
     "data": {
      "text/plain": [
       "(66285, 39)"
      ]
     },
     "execution_count": 99,
     "metadata": {},
     "output_type": "execute_result"
    }
   ],
   "source": [
    "record_2014.shape"
   ]
  },
  {
   "cell_type": "code",
   "execution_count": 68,
   "metadata": {
    "collapsed": true
   },
   "outputs": [],
   "source": [
    "March = record_2014[record_2014.NumMonth == 3]\n",
    "Jan = record_2014[record_2014.NumMonth == 1]\n",
    "Jul = record_2014[record_2014.NumMonth == 7]\n",
    "Feb = record_2014[record_2014.NumMonth == 2]\n",
    "April = record_2014[record_2014.NumMonth == 4]\n",
    "May = record_2014[record_2014.NumMonth == 5]\n",
    "Jun = record_2014[record_2014.NumMonth == 6]"
   ]
  },
  {
   "cell_type": "code",
   "execution_count": 69,
   "metadata": {
    "collapsed": false
   },
   "outputs": [
    {
     "data": {
      "text/plain": [
       "(4361, 39)"
      ]
     },
     "execution_count": 69,
     "metadata": {},
     "output_type": "execute_result"
    }
   ],
   "source": [
    "March.shape"
   ]
  },
  {
   "cell_type": "code",
   "execution_count": 148,
   "metadata": {
    "collapsed": false
   },
   "outputs": [
    {
     "data": {
      "text/plain": [
       "(3948, 36)"
      ]
     },
     "execution_count": 148,
     "metadata": {},
     "output_type": "execute_result"
    }
   ],
   "source": [
    "Feb.shape"
   ]
  },
  {
   "cell_type": "code",
   "execution_count": 70,
   "metadata": {
    "collapsed": false
   },
   "outputs": [
    {
     "data": {
      "text/plain": [
       "452"
      ]
     },
     "execution_count": 70,
     "metadata": {},
     "output_type": "execute_result"
    }
   ],
   "source": [
    "len(Jul[Jul.CaptainU_CHURN == 1])"
   ]
  },
  {
   "cell_type": "code",
   "execution_count": 71,
   "metadata": {
    "collapsed": false
   },
   "outputs": [
    {
     "data": {
      "text/plain": [
       "261"
      ]
     },
     "execution_count": 71,
     "metadata": {},
     "output_type": "execute_result"
    }
   ],
   "source": [
    "len(May[May.CaptainU_CHURN == 1])"
   ]
  },
  {
   "cell_type": "code",
   "execution_count": 72,
   "metadata": {
    "collapsed": false
   },
   "outputs": [
    {
     "data": {
      "text/plain": [
       "366"
      ]
     },
     "execution_count": 72,
     "metadata": {},
     "output_type": "execute_result"
    }
   ],
   "source": [
    "len(Jun[Jun.CaptainU_CHURN == 1])"
   ]
  },
  {
   "cell_type": "code",
   "execution_count": 58,
   "metadata": {
    "collapsed": false
   },
   "outputs": [
    {
     "data": {
      "text/html": [
       "<div>\n",
       "<table border=\"1\" class=\"dataframe\">\n",
       "  <thead>\n",
       "    <tr style=\"text-align: right;\">\n",
       "      <th></th>\n",
       "      <th>NumYear</th>\n",
       "      <th>NumMonth</th>\n",
       "      <th>index_col</th>\n",
       "      <th>gender_F</th>\n",
       "      <th>gender_M</th>\n",
       "      <th>Duration</th>\n",
       "      <th>EventsAttended_Frequency</th>\n",
       "      <th>Hits_Frequency</th>\n",
       "      <th>Emails_Frequency</th>\n",
       "      <th>CollegeProspects_Frequency</th>\n",
       "      <th>...</th>\n",
       "      <th>ECoachImport_Freq</th>\n",
       "      <th>ECoachSearchHit_Freq</th>\n",
       "      <th>ECoachVisit_Freq</th>\n",
       "      <th>Ecolleges_going_to_the_event_Freq</th>\n",
       "      <th>Efailed_subscription_Freq</th>\n",
       "      <th>EEmailsDigest_Freq</th>\n",
       "      <th>Epost_event_email_Freq</th>\n",
       "      <th>Esms_update_Freq</th>\n",
       "      <th>ECCNote_Freq</th>\n",
       "      <th>TMChurn</th>\n",
       "    </tr>\n",
       "  </thead>\n",
       "  <tbody>\n",
       "    <tr>\n",
       "      <th>36260</th>\n",
       "      <td>2014</td>\n",
       "      <td>3</td>\n",
       "      <td>36260</td>\n",
       "      <td>1</td>\n",
       "      <td>0</td>\n",
       "      <td>-0.540506</td>\n",
       "      <td>-0.718782</td>\n",
       "      <td>-0.817710</td>\n",
       "      <td>-0.752479</td>\n",
       "      <td>-0.172363</td>\n",
       "      <td>...</td>\n",
       "      <td>-0.12585</td>\n",
       "      <td>-0.756511</td>\n",
       "      <td>-0.305000</td>\n",
       "      <td>-0.420501</td>\n",
       "      <td>-0.424879</td>\n",
       "      <td>0.0</td>\n",
       "      <td>-0.480499</td>\n",
       "      <td>-0.086895</td>\n",
       "      <td>-0.394384</td>\n",
       "      <td>0</td>\n",
       "    </tr>\n",
       "    <tr>\n",
       "      <th>36261</th>\n",
       "      <td>2014</td>\n",
       "      <td>3</td>\n",
       "      <td>36261</td>\n",
       "      <td>0</td>\n",
       "      <td>1</td>\n",
       "      <td>0.671983</td>\n",
       "      <td>0.036450</td>\n",
       "      <td>1.125498</td>\n",
       "      <td>0.205160</td>\n",
       "      <td>1.572380</td>\n",
       "      <td>...</td>\n",
       "      <td>-0.12585</td>\n",
       "      <td>0.335668</td>\n",
       "      <td>0.806745</td>\n",
       "      <td>-0.420501</td>\n",
       "      <td>-0.424879</td>\n",
       "      <td>0.0</td>\n",
       "      <td>-0.480499</td>\n",
       "      <td>-0.086895</td>\n",
       "      <td>0.368305</td>\n",
       "      <td>0</td>\n",
       "    </tr>\n",
       "    <tr>\n",
       "      <th>36262</th>\n",
       "      <td>2014</td>\n",
       "      <td>3</td>\n",
       "      <td>36262</td>\n",
       "      <td>1</td>\n",
       "      <td>0</td>\n",
       "      <td>1.454365</td>\n",
       "      <td>0.791681</td>\n",
       "      <td>-0.826583</td>\n",
       "      <td>-0.642406</td>\n",
       "      <td>3.278350</td>\n",
       "      <td>...</td>\n",
       "      <td>-0.12585</td>\n",
       "      <td>-0.781911</td>\n",
       "      <td>-0.053961</td>\n",
       "      <td>-0.420501</td>\n",
       "      <td>-0.424879</td>\n",
       "      <td>0.0</td>\n",
       "      <td>-0.480499</td>\n",
       "      <td>-0.086895</td>\n",
       "      <td>0.139498</td>\n",
       "      <td>0</td>\n",
       "    </tr>\n",
       "    <tr>\n",
       "      <th>36263</th>\n",
       "      <td>2014</td>\n",
       "      <td>3</td>\n",
       "      <td>36263</td>\n",
       "      <td>1</td>\n",
       "      <td>0</td>\n",
       "      <td>0.078027</td>\n",
       "      <td>-0.567735</td>\n",
       "      <td>-0.791091</td>\n",
       "      <td>-0.708450</td>\n",
       "      <td>-0.327451</td>\n",
       "      <td>...</td>\n",
       "      <td>-0.12585</td>\n",
       "      <td>-0.731112</td>\n",
       "      <td>-0.233275</td>\n",
       "      <td>0.195560</td>\n",
       "      <td>-0.424879</td>\n",
       "      <td>0.0</td>\n",
       "      <td>0.052344</td>\n",
       "      <td>-0.086895</td>\n",
       "      <td>-0.394384</td>\n",
       "      <td>0</td>\n",
       "    </tr>\n",
       "    <tr>\n",
       "      <th>36264</th>\n",
       "      <td>2014</td>\n",
       "      <td>3</td>\n",
       "      <td>36264</td>\n",
       "      <td>1</td>\n",
       "      <td>0</td>\n",
       "      <td>-0.040764</td>\n",
       "      <td>-0.567735</td>\n",
       "      <td>-0.746726</td>\n",
       "      <td>-0.653413</td>\n",
       "      <td>-0.560083</td>\n",
       "      <td>...</td>\n",
       "      <td>-0.12585</td>\n",
       "      <td>-0.553315</td>\n",
       "      <td>-0.305000</td>\n",
       "      <td>-0.420501</td>\n",
       "      <td>-0.424879</td>\n",
       "      <td>0.0</td>\n",
       "      <td>-0.480499</td>\n",
       "      <td>-0.086895</td>\n",
       "      <td>-0.394384</td>\n",
       "      <td>0</td>\n",
       "    </tr>\n",
       "  </tbody>\n",
       "</table>\n",
       "<p>5 rows × 33 columns</p>\n",
       "</div>"
      ],
      "text/plain": [
       "       NumYear  NumMonth  index_col  gender_F  gender_M  Duration  \\\n",
       "36260     2014         3      36260         1         0 -0.540506   \n",
       "36261     2014         3      36261         0         1  0.671983   \n",
       "36262     2014         3      36262         1         0  1.454365   \n",
       "36263     2014         3      36263         1         0  0.078027   \n",
       "36264     2014         3      36264         1         0 -0.040764   \n",
       "\n",
       "       EventsAttended_Frequency  Hits_Frequency  Emails_Frequency  \\\n",
       "36260                 -0.718782       -0.817710         -0.752479   \n",
       "36261                  0.036450        1.125498          0.205160   \n",
       "36262                  0.791681       -0.826583         -0.642406   \n",
       "36263                 -0.567735       -0.791091         -0.708450   \n",
       "36264                 -0.567735       -0.746726         -0.653413   \n",
       "\n",
       "       CollegeProspects_Frequency   ...     ECoachImport_Freq  \\\n",
       "36260                   -0.172363   ...              -0.12585   \n",
       "36261                    1.572380   ...              -0.12585   \n",
       "36262                    3.278350   ...              -0.12585   \n",
       "36263                   -0.327451   ...              -0.12585   \n",
       "36264                   -0.560083   ...              -0.12585   \n",
       "\n",
       "       ECoachSearchHit_Freq  ECoachVisit_Freq  \\\n",
       "36260             -0.756511         -0.305000   \n",
       "36261              0.335668          0.806745   \n",
       "36262             -0.781911         -0.053961   \n",
       "36263             -0.731112         -0.233275   \n",
       "36264             -0.553315         -0.305000   \n",
       "\n",
       "       Ecolleges_going_to_the_event_Freq  Efailed_subscription_Freq  \\\n",
       "36260                          -0.420501                  -0.424879   \n",
       "36261                          -0.420501                  -0.424879   \n",
       "36262                          -0.420501                  -0.424879   \n",
       "36263                           0.195560                  -0.424879   \n",
       "36264                          -0.420501                  -0.424879   \n",
       "\n",
       "       EEmailsDigest_Freq  Epost_event_email_Freq  Esms_update_Freq  \\\n",
       "36260                 0.0               -0.480499         -0.086895   \n",
       "36261                 0.0               -0.480499         -0.086895   \n",
       "36262                 0.0               -0.480499         -0.086895   \n",
       "36263                 0.0                0.052344         -0.086895   \n",
       "36264                 0.0               -0.480499         -0.086895   \n",
       "\n",
       "       ECCNote_Freq  TMChurn  \n",
       "36260     -0.394384        0  \n",
       "36261      0.368305        0  \n",
       "36262      0.139498        0  \n",
       "36263     -0.394384        0  \n",
       "36264     -0.394384        0  \n",
       "\n",
       "[5 rows x 33 columns]"
      ]
     },
     "execution_count": 58,
     "metadata": {},
     "output_type": "execute_result"
    }
   ],
   "source": [
    "March.head(5)"
   ]
  },
  {
   "cell_type": "code",
   "execution_count": 73,
   "metadata": {
    "collapsed": true
   },
   "outputs": [],
   "source": [
    "March.drop(['NumYear','NumMonth','index_col','Ehighlight_video__regathlete_11_diff',\n",
    "       'Ehighlight_video__regathlete_2_diff',\n",
    "       'Ehighlight_video__regathlete_4_diff','EEmailsDigest_diff'], axis = 1, inplace = True)"
   ]
  },
  {
   "cell_type": "code",
   "execution_count": 75,
   "metadata": {
    "collapsed": false
   },
   "outputs": [],
   "source": [
    "Jul.drop(['NumYear','NumMonth','index_col','Ehighlight_video__regathlete_11_diff',\n",
    "       'Ehighlight_video__regathlete_2_diff',\n",
    "       'Ehighlight_video__regathlete_4_diff','EEmailsDigest_diff'], axis = 1, inplace = True)"
   ]
  },
  {
   "cell_type": "code",
   "execution_count": 76,
   "metadata": {
    "collapsed": false
   },
   "outputs": [
    {
     "data": {
      "text/plain": [
       "array(['gender_F', 'gender_M', 'EventsAttended_diff', 'Hits_diff',\n",
       "       'Hprofileview_diff', 'Hmessage_diff', 'Hsearchhit_diff',\n",
       "       'Hcoacheval_diff', 'Hvideoview_diff', 'Hemailopen_diff',\n",
       "       'Emails_diff', 'EAthlete newsletter_diff', 'Eathlete_new_diff',\n",
       "       'Eathlete_new_info_request_diff', 'ECCNote_diff',\n",
       "       'ECCNote_camp_diff', 'Ecoach_list_known_updated_diff',\n",
       "       'ECoachEmailOpen_diff', 'ECoachEval_diff', 'ECoachImport_diff',\n",
       "       'ECoachSearchHit_diff', 'ECoachVideoViewHit_diff',\n",
       "       'ECoachVisit_diff', 'Ecolleges_going_to_the_event_diff',\n",
       "       'Eparent_new_diff', 'Eparent_welcome_diff',\n",
       "       'Epost_event_email_diff', 'Esms_update_diff',\n",
       "       'CollegeProspects_diff', 'MessagesReceived_diff',\n",
       "       'MessagesSent_diff', 'CaptainU_CHURN'], dtype=object)"
      ]
     },
     "execution_count": 76,
     "metadata": {},
     "output_type": "execute_result"
    }
   ],
   "source": [
    "March.columns.values"
   ]
  },
  {
   "cell_type": "code",
   "execution_count": 77,
   "metadata": {
    "collapsed": false
   },
   "outputs": [
    {
     "data": {
      "text/plain": [
       "array(['gender_F', 'gender_M', 'EventsAttended_diff', 'Hits_diff',\n",
       "       'Hprofileview_diff', 'Hmessage_diff', 'Hsearchhit_diff',\n",
       "       'Hcoacheval_diff', 'Hvideoview_diff', 'Hemailopen_diff',\n",
       "       'Emails_diff', 'EAthlete newsletter_diff', 'Eathlete_new_diff',\n",
       "       'Eathlete_new_info_request_diff', 'ECCNote_diff',\n",
       "       'ECCNote_camp_diff', 'Ecoach_list_known_updated_diff',\n",
       "       'ECoachEmailOpen_diff', 'ECoachEval_diff', 'ECoachImport_diff',\n",
       "       'ECoachSearchHit_diff', 'ECoachVideoViewHit_diff',\n",
       "       'ECoachVisit_diff', 'Ecolleges_going_to_the_event_diff',\n",
       "       'Eparent_new_diff', 'Eparent_welcome_diff',\n",
       "       'Epost_event_email_diff', 'Esms_update_diff',\n",
       "       'CollegeProspects_diff', 'MessagesReceived_diff',\n",
       "       'MessagesSent_diff', 'CaptainU_CHURN'], dtype=object)"
      ]
     },
     "execution_count": 77,
     "metadata": {},
     "output_type": "execute_result"
    }
   ],
   "source": [
    "Jul.columns.values"
   ]
  },
  {
   "cell_type": "code",
   "execution_count": 71,
   "metadata": {
    "collapsed": true
   },
   "outputs": [],
   "source": [
    "March.to_csv('data/March_2014.csv' , encoding='utf-8')"
   ]
  },
  {
   "cell_type": "code",
   "execution_count": 61,
   "metadata": {
    "collapsed": true
   },
   "outputs": [],
   "source": [
    "March.to_csv('data/March_2014_Freq.csv' , encoding='utf-8')"
   ]
  },
  {
   "cell_type": "code",
   "execution_count": 104,
   "metadata": {
    "collapsed": true
   },
   "outputs": [],
   "source": [
    "March.to_csv('data/March_2014_diff.csv' , encoding='utf-8')"
   ]
  },
  {
   "cell_type": "code",
   "execution_count": 110,
   "metadata": {
    "collapsed": true
   },
   "outputs": [],
   "source": [
    "March.to_csv('data/March_2014_One.csv' , encoding='utf-8')"
   ]
  },
  {
   "cell_type": "code",
   "execution_count": 163,
   "metadata": {
    "collapsed": true
   },
   "outputs": [],
   "source": [
    "Jun.to_csv('data/Jun_2014_Two.csv' , encoding='utf-8')"
   ]
  },
  {
   "cell_type": "code",
   "execution_count": 78,
   "metadata": {
    "collapsed": true
   },
   "outputs": [],
   "source": [
    "Jul.to_csv('data/Jul_2014_diff.csv', encoding='utf-8')"
   ]
  },
  {
   "cell_type": "code",
   "execution_count": null,
   "metadata": {
    "collapsed": true
   },
   "outputs": [],
   "source": [
    "data_test.drop(['CollegeProspects','Emails','MessagesSent','Hprofileview','Hcoachimport','Hmessage',\n",
    "                      'Hsearchhit','Hcoacheval', 'Hemailopen', 'Eathlete_new_info_request', \n",
    "                'Ecoach_list_known_updated', 'ECoachEmailOpen', 'ECoachEval', 'ECoachImport', 'ECoachSearchHit',\n",
    "               'ECoachVisit', 'Ecolleges_going_to_the_event', 'Efailed_subscription', 'Epost_event_email'\n",
    "               ,'Esms_update','MessagesReceived','Hits', 'ECCNote','EventsAttended','Hvideoview',\n",
    "                'ECoachVideoViewHit', 'Efailed_subscription_Freq','Eparent_welcome'\n",
    "                ,'EAthlete newsletter','ECCNote_camp','Hit_Frequency'], axis = 1, inplace = True)"
   ]
  }
 ],
 "metadata": {
  "kernelspec": {
   "display_name": "Python 3",
   "language": "python",
   "name": "python3"
  },
  "language_info": {
   "codemirror_mode": {
    "name": "ipython",
    "version": 3
   },
   "file_extension": ".py",
   "mimetype": "text/x-python",
   "name": "python",
   "nbconvert_exporter": "python",
   "pygments_lexer": "ipython3",
   "version": "3.5.2"
  }
 },
 "nbformat": 4,
 "nbformat_minor": 1
}
