{
 "cells": [
  {
   "cell_type": "code",
   "execution_count": 1,
   "metadata": {
    "collapsed": true
   },
   "outputs": [],
   "source": [
    "%matplotlib inline\n",
    "import pandas as pd\n",
    "from ipywidgets import widgets\n",
    "from IPython.display import display\n",
    "import numpy as np\n",
    "import matplotlib.pyplot as plt\n",
    "from sklearn.model_selection import train_test_split\n",
    "from sklearn import tree\n",
    "import sklearn.metrics as metrics\n",
    "import pydotplus \n",
    "from IPython.display import Image\n",
    "from sklearn.metrics import confusion_matrix\n",
    "from sklearn.linear_model import LogisticRegression\n",
    "from sklearn.svm import SVC\n",
    "from sklearn.linear_model import Lasso\n",
    "from sklearn.ensemble import RandomForestRegressor\n",
    "from IPython.display import Image\n",
    "import pydotplus \n",
    "from sklearn import preprocessing"
   ]
  },
  {
   "cell_type": "code",
   "execution_count": 2,
   "metadata": {
    "collapsed": true
   },
   "outputs": [],
   "source": [
    "pd.options.mode.chained_assignment = None"
   ]
  },
  {
   "cell_type": "code",
   "execution_count": 3,
   "metadata": {
    "collapsed": true
   },
   "outputs": [],
   "source": [
    "df = pd.read_csv('data/Data.csv', sep = '\\t', encoding = 'utf-8')"
   ]
  },
  {
   "cell_type": "code",
   "execution_count": 4,
   "metadata": {
    "collapsed": true
   },
   "outputs": [],
   "source": [
    "active = df[df['Subscription']>0]"
   ]
  },
  {
   "cell_type": "code",
   "execution_count": 5,
   "metadata": {
    "collapsed": false
   },
   "outputs": [
    {
     "data": {
      "text/plain": [
       "(133419, 82)"
      ]
     },
     "execution_count": 5,
     "metadata": {},
     "output_type": "execute_result"
    }
   ],
   "source": [
    "active.shape"
   ]
  },
  {
   "cell_type": "code",
   "execution_count": 7,
   "metadata": {
    "collapsed": false
   },
   "outputs": [],
   "source": [
    "active = active.reset_index()"
   ]
  },
  {
   "cell_type": "code",
   "execution_count": 8,
   "metadata": {
    "collapsed": false
   },
   "outputs": [
    {
     "data": {
      "text/plain": [
       "array(['index', 'Unnamed: 0', 'Athlete', 'Subscription', 'Month', 'gender',\n",
       "       'sport', 'SegmentName', 'Duration', 'EventsAttended',\n",
       "       'EventsAttended_Frequency', 'EventsAttended_LastDate',\n",
       "       'EventsAttended_Recency', 'Hits', 'Hits_Frequency', 'Hits_LastDate',\n",
       "       'Hits_Recency', 'Hprofileview', 'Hcoachimport', 'Hmessage',\n",
       "       'Hsearchhit', 'HNULL', 'Hcoacheval', 'Hvideoview', 'Hemailopen',\n",
       "       'Emails', 'Emails_Frequency', 'Emails_LastDate', 'Emails_Recency',\n",
       "       'EAthlete newsletter', 'Eathlete_new', 'Eathlete_new_info_request',\n",
       "       'ECCNote', 'ECCNote_camp', 'Ecoach_list_known_updated',\n",
       "       'ECoachEmailOpen', 'ECoachEval', 'ECoachImport', 'ECoachSearchHit',\n",
       "       'ECoachVideoViewHit', 'ECoachVisit', 'Ecolleges_going_to_the_event',\n",
       "       'Efailed_subscription', 'Ehighlight_video__regathlete_11',\n",
       "       'Ehighlight_video__regathlete_2', 'Ehighlight_video__regathlete_4',\n",
       "       'EEmailsDigest', 'Eparent_new', 'Eparent_welcome',\n",
       "       'Epost_event_email', 'Esms_update', 'CollegeProspects',\n",
       "       'CollegeProspects_Frequency', 'CollegeProspects_LastDate',\n",
       "       'CollegeProspects_Recency', 'MessagesReceived',\n",
       "       'MessagesReceived_Frequency', 'MessagesReceived_LastDate',\n",
       "       'MessagesReceived_Recency', 'MessagesSent',\n",
       "       'MessagesSent_Frequency', 'MessagesSent_LastDate',\n",
       "       'MessagesSent_Recency', 'CaptainU_CHURN', 'MSG_CHURN', 'Made_Team?',\n",
       "       'DateNum', 'NumYear', 'NumMonth', 'Subscriber?', 'monthly_price',\n",
       "       'Subscriptions_BOM', 'Subscription_Started', 'subscription_Ended',\n",
       "       'Subscriptions_EOM', 'RecencyNow', 'RecencyStat',\n",
       "       'AthleteRecordNumber', 'created_at', 'updated_at', 'status', 'ID',\n",
       "       'AthleteSub'], dtype=object)"
      ]
     },
     "execution_count": 8,
     "metadata": {},
     "output_type": "execute_result"
    }
   ],
   "source": [
    "active.columns.values"
   ]
  },
  {
   "cell_type": "code",
   "execution_count": 96,
   "metadata": {
    "collapsed": false
   },
   "outputs": [
    {
     "data": {
      "text/html": [
       "<div>\n",
       "<table border=\"1\" class=\"dataframe\">\n",
       "  <thead>\n",
       "    <tr style=\"text-align: right;\">\n",
       "      <th></th>\n",
       "      <th>index</th>\n",
       "      <th>Athlete</th>\n",
       "      <th>Subscription</th>\n",
       "      <th>Month</th>\n",
       "      <th>gender</th>\n",
       "      <th>sport</th>\n",
       "      <th>SegmentName</th>\n",
       "      <th>Duration</th>\n",
       "      <th>EventsAttended</th>\n",
       "      <th>EventsAttended_Frequency</th>\n",
       "      <th>...</th>\n",
       "      <th>subscription_Ended</th>\n",
       "      <th>Subscriptions_EOM</th>\n",
       "      <th>RecencyNow</th>\n",
       "      <th>RecencyStat</th>\n",
       "      <th>AthleteRecordNumber</th>\n",
       "      <th>created_at</th>\n",
       "      <th>updated_at</th>\n",
       "      <th>status</th>\n",
       "      <th>ID</th>\n",
       "      <th>AthleteSub</th>\n",
       "    </tr>\n",
       "  </thead>\n",
       "  <tbody>\n",
       "    <tr>\n",
       "      <th>0</th>\n",
       "      <td>0</td>\n",
       "      <td>215018</td>\n",
       "      <td>617124</td>\n",
       "      <td>Jul-2013</td>\n",
       "      <td>F</td>\n",
       "      <td>softball</td>\n",
       "      <td>NaN</td>\n",
       "      <td>37.0</td>\n",
       "      <td>0</td>\n",
       "      <td>0</td>\n",
       "      <td>...</td>\n",
       "      <td>0</td>\n",
       "      <td>0</td>\n",
       "      <td>1187</td>\n",
       "      <td>0</td>\n",
       "      <td>19</td>\n",
       "      <td>2013-07-03 20:45:00</td>\n",
       "      <td>2013-08-09 21:49:00</td>\n",
       "      <td>NaN</td>\n",
       "      <td>19</td>\n",
       "      <td>2150181</td>\n",
       "    </tr>\n",
       "    <tr>\n",
       "      <th>1</th>\n",
       "      <td>1</td>\n",
       "      <td>215018</td>\n",
       "      <td>617124</td>\n",
       "      <td>Aug-2013</td>\n",
       "      <td>F</td>\n",
       "      <td>softball</td>\n",
       "      <td>NaN</td>\n",
       "      <td>37.0</td>\n",
       "      <td>0</td>\n",
       "      <td>0</td>\n",
       "      <td>...</td>\n",
       "      <td>1</td>\n",
       "      <td>0</td>\n",
       "      <td>1156</td>\n",
       "      <td>0</td>\n",
       "      <td>20</td>\n",
       "      <td>2013-07-03 20:45:00</td>\n",
       "      <td>2013-08-09 21:49:00</td>\n",
       "      <td>NaN</td>\n",
       "      <td>20</td>\n",
       "      <td>2150181</td>\n",
       "    </tr>\n",
       "    <tr>\n",
       "      <th>2</th>\n",
       "      <td>2</td>\n",
       "      <td>215069</td>\n",
       "      <td>241447</td>\n",
       "      <td>Jan-2012</td>\n",
       "      <td>F</td>\n",
       "      <td>soccer</td>\n",
       "      <td>NaN</td>\n",
       "      <td>851.0</td>\n",
       "      <td>2</td>\n",
       "      <td>2</td>\n",
       "      <td>...</td>\n",
       "      <td>0</td>\n",
       "      <td>0</td>\n",
       "      <td>1734</td>\n",
       "      <td>40907</td>\n",
       "      <td>1</td>\n",
       "      <td>2012-01-01 16:43:00</td>\n",
       "      <td>2014-05-01 09:52:00</td>\n",
       "      <td>NaN</td>\n",
       "      <td>57</td>\n",
       "      <td>2150690</td>\n",
       "    </tr>\n",
       "    <tr>\n",
       "      <th>3</th>\n",
       "      <td>3</td>\n",
       "      <td>215069</td>\n",
       "      <td>241447</td>\n",
       "      <td>Feb-2012</td>\n",
       "      <td>F</td>\n",
       "      <td>soccer</td>\n",
       "      <td>NaN</td>\n",
       "      <td>851.0</td>\n",
       "      <td>0</td>\n",
       "      <td>2</td>\n",
       "      <td>...</td>\n",
       "      <td>0</td>\n",
       "      <td>0</td>\n",
       "      <td>1703</td>\n",
       "      <td>40907</td>\n",
       "      <td>2</td>\n",
       "      <td>2012-01-01 16:43:00</td>\n",
       "      <td>2014-05-01 09:52:00</td>\n",
       "      <td>NaN</td>\n",
       "      <td>58</td>\n",
       "      <td>2150690</td>\n",
       "    </tr>\n",
       "    <tr>\n",
       "      <th>4</th>\n",
       "      <td>4</td>\n",
       "      <td>215069</td>\n",
       "      <td>241447</td>\n",
       "      <td>Mar-2012</td>\n",
       "      <td>F</td>\n",
       "      <td>soccer</td>\n",
       "      <td>NaN</td>\n",
       "      <td>851.0</td>\n",
       "      <td>0</td>\n",
       "      <td>2</td>\n",
       "      <td>...</td>\n",
       "      <td>0</td>\n",
       "      <td>0</td>\n",
       "      <td>1674</td>\n",
       "      <td>40907</td>\n",
       "      <td>3</td>\n",
       "      <td>2012-01-01 16:43:00</td>\n",
       "      <td>2014-05-01 09:52:00</td>\n",
       "      <td>NaN</td>\n",
       "      <td>59</td>\n",
       "      <td>2150690</td>\n",
       "    </tr>\n",
       "  </tbody>\n",
       "</table>\n",
       "<p>5 rows × 82 columns</p>\n",
       "</div>"
      ],
      "text/plain": [
       "   index  Athlete  Subscription     Month gender     sport  SegmentName  \\\n",
       "0      0   215018        617124  Jul-2013      F  softball          NaN   \n",
       "1      1   215018        617124  Aug-2013      F  softball          NaN   \n",
       "2      2   215069        241447  Jan-2012      F    soccer          NaN   \n",
       "3      3   215069        241447  Feb-2012      F    soccer          NaN   \n",
       "4      4   215069        241447  Mar-2012      F    soccer          NaN   \n",
       "\n",
       "   Duration  EventsAttended  EventsAttended_Frequency     ...      \\\n",
       "0      37.0               0                         0     ...       \n",
       "1      37.0               0                         0     ...       \n",
       "2     851.0               2                         2     ...       \n",
       "3     851.0               0                         2     ...       \n",
       "4     851.0               0                         2     ...       \n",
       "\n",
       "  subscription_Ended  Subscriptions_EOM  RecencyNow  RecencyStat  \\\n",
       "0                  0                  0        1187            0   \n",
       "1                  1                  0        1156            0   \n",
       "2                  0                  0        1734        40907   \n",
       "3                  0                  0        1703        40907   \n",
       "4                  0                  0        1674        40907   \n",
       "\n",
       "  AthleteRecordNumber           created_at           updated_at  status  ID  \\\n",
       "0                  19  2013-07-03 20:45:00  2013-08-09 21:49:00     NaN  19   \n",
       "1                  20  2013-07-03 20:45:00  2013-08-09 21:49:00     NaN  20   \n",
       "2                   1  2012-01-01 16:43:00  2014-05-01 09:52:00     NaN  57   \n",
       "3                   2  2012-01-01 16:43:00  2014-05-01 09:52:00     NaN  58   \n",
       "4                   3  2012-01-01 16:43:00  2014-05-01 09:52:00     NaN  59   \n",
       "\n",
       "   AthleteSub  \n",
       "0     2150181  \n",
       "1     2150181  \n",
       "2     2150690  \n",
       "3     2150690  \n",
       "4     2150690  \n",
       "\n",
       "[5 rows x 82 columns]"
      ]
     },
     "execution_count": 96,
     "metadata": {},
     "output_type": "execute_result"
    }
   ],
   "source": [
    "active.head(5)"
   ]
  },
  {
   "cell_type": "code",
   "execution_count": 9,
   "metadata": {
    "collapsed": false
   },
   "outputs": [],
   "source": [
    "active.drop(['index', 'Unnamed: 0'], axis=1,inplace = True)"
   ]
  },
  {
   "cell_type": "code",
   "execution_count": 10,
   "metadata": {
    "collapsed": true
   },
   "outputs": [],
   "source": [
    "active.rename(columns={'level_0':'index'},inplace=True)"
   ]
  },
  {
   "cell_type": "code",
   "execution_count": 11,
   "metadata": {
    "collapsed": false
   },
   "outputs": [
    {
     "name": "stdout",
     "output_type": "stream",
     "text": [
      "133401\n",
      "Mean: 375.13\n",
      "Variance: 59659.15\n",
      "Percent values missing: 0.000000%\n"
     ]
    },
    {
     "data": {
      "image/png": "[encoded data removed]",
      "text/plain": [
       "<matplotlib.figure.Figure at 0x1059270f0>"
      ]
     },
     "metadata": {},
     "output_type": "display_data"
    },
    {
     "data": {
      "image/png": "[encoded data removed]",
      "text/plain": [
       "<matplotlib.figure.Figure at 0x10974fe48>"
      ]
     },
     "metadata": {},
     "output_type": "display_data"
    }
   ],
   "source": [
    "features = [feature for feature in active.columns.values]\n",
    "\n",
    "features_dropdown = widgets.Dropdown(\n",
    "    options=features,\n",
    "    value='EventsAttended',\n",
    "    description='Feature',\n",
    "    disabled=False,\n",
    "    button_style='info'\n",
    ")\n",
    "\n",
    "categorical_features = [cat_feature for cat_feature in active.columns.values if active[cat_feature].dtype == 'object']\n",
    "#categorical_features.extend(['MSSubClass', 'OverallQual', 'OverallCond', 'BsmtFullBath', \n",
    "#                             'BsmtHalfBath', 'BedroomAbvGr', 'KitchenAbvGr', \n",
    "#                             'TotRmsAbvGr', 'Fireplaces', 'GarageCars', 'MoSold', 'YrSold'])\n",
    "\n",
    "\n",
    "def display_stats(feature):\n",
    "    \n",
    "    if feature in categorical_features:\n",
    "        stringified = active[feature].apply(lambda x: str(x)).values\n",
    "        print(\"Percent values missing: %f%%\" % (100*(np.sum(stringified == 'nan') / len(active[feature].values))))\n",
    "        \n",
    "        nan_indices = np.where(stringified == 'nan')[0]\n",
    "        stringified = np.delete(stringified, nan_indices)\n",
    "        \n",
    "        labels = np.unique(stringified)\n",
    "        data = [np.sum(stringified == l) for l in labels]\n",
    "        fig = plt.figure()\n",
    "        ax = fig.add_subplot(1, 1, 1)\n",
    "        ax.set_title('Visualization of %s' % feature)\n",
    "        ax.set_xlabel(feature)\n",
    "        ax.set_ylabel('Frequency')\n",
    "        if feature == 'MoSold':\n",
    "            labels = ['Jan', 'Feb', 'Mar', 'Apr', 'May', 'Jun', 'Jul', 'Aug', 'Sep', 'Oct', 'Nov', 'Dec']\n",
    "        ax.bar(range(len(data)), data, tick_label=labels)\n",
    "        #ax.xticks(range(len(lables)), labels)\n",
    "        plt.show()\n",
    "    else:\n",
    "        x = active[feature].values\n",
    "    \n",
    "        #find zero indices\n",
    "        zero_indices = np.where(x == 0)[0]\n",
    "        nan_indices = np.where(np.isnan(x))[0]\n",
    "        #delete these datapoints from x and y\n",
    "    \n",
    "        x = np.delete(x, zero_indices)\n",
    "        x = np.delete(x, nan_indices)\n",
    "        print(len(x))\n",
    "        y = np.arange(0, len(x), 1);\n",
    "        #y = active['index']\n",
    "        \n",
    "        print('Mean: %.2f' % np.mean(x))\n",
    "        print('Variance: %.2f' % np.var(x))\n",
    "        # we don't count zeros as missing\n",
    "        print('Percent values missing: %f%%' % (100*((len(nan_indices)) / len(active[feature].values))))\n",
    "    \n",
    "        fig1 = plt.figure(1)\n",
    "        ax1 = fig1.add_subplot(1, 1, 1)\n",
    "        ax1.set_title('Histogram of %s' % feature)\n",
    "        ax1.set_xlabel(feature)\n",
    "        ax1.set_ylabel('Frequency')\n",
    "        ax1.hist(x)\n",
    "        \n",
    "        fig2 = plt.figure(2)\n",
    "        ax2= fig2.add_subplot(1, 1, 1)\n",
    "        ax2.set_title('Boxplot of %s' % feature)\n",
    "        ax2.boxplot([list(x)], labels=[feature])\n",
    "        plt.show()\n",
    "\n",
    "widgets.interact(display_stats, feature=features_dropdown)"
   ]
  },
  {
   "cell_type": "code",
   "execution_count": null,
   "metadata": {
    "collapsed": true
   },
   "outputs": [],
   "source": []
  }
 ],
 "metadata": {
  "kernelspec": {
   "display_name": "Python 3",
   "language": "python",
   "name": "python3"
  },
  "language_info": {
   "codemirror_mode": {
    "name": "ipython",
    "version": 3
   },
   "file_extension": ".py",
   "mimetype": "text/x-python",
   "name": "python",
   "nbconvert_exporter": "python",
   "pygments_lexer": "ipython3",
   "version": "3.5.2"
  },
  "widgets": {
   "state": {
    "0bc62e75aca5443abdb7efc83be9d879": {
     "views": [
      {
       "cell_index": 10
      }
     ]
    }
   },
   "version": "1.2.0"
  }
 },
 "nbformat": 4,
 "nbformat_minor": 1
}
